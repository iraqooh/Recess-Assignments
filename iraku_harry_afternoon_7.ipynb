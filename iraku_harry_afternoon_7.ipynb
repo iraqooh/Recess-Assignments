{
 "cells": [
  {
   "cell_type": "markdown",
   "id": "9f6640ad",
   "metadata": {},
   "source": [
    "# Data Science with Python"
   ]
  },
  {
   "cell_type": "markdown",
   "id": "7d9e363d",
   "metadata": {},
   "source": [
    "## Importing Modules"
   ]
  },
  {
   "cell_type": "code",
   "execution_count": 79,
   "id": "59b1680c",
   "metadata": {},
   "outputs": [
    {
     "name": "stdout",
     "output_type": "stream",
     "text": [
      "1.5.3\n"
     ]
    }
   ],
   "source": [
    "import pandas as pd\n",
    "print(pd.__version__)"
   ]
  },
  {
   "cell_type": "markdown",
   "id": "9e52bf6b",
   "metadata": {},
   "source": [
    "## Creating an Empty DataFrame"
   ]
  },
  {
   "cell_type": "code",
   "execution_count": 80,
   "id": "193007e5",
   "metadata": {},
   "outputs": [
    {
     "name": "stdout",
     "output_type": "stream",
     "text": [
      "Empty DataFrame\n",
      "Columns: []\n",
      "Index: []\n"
     ]
    }
   ],
   "source": [
    "dframe = pd.DataFrame()\n",
    "print(dframe)"
   ]
  },
  {
   "cell_type": "markdown",
   "id": "f9210877",
   "metadata": {},
   "source": [
    "## Creating and Storing Data in a DataFrame"
   ]
  },
  {
   "cell_type": "code",
   "execution_count": 81,
   "id": "922ab05d",
   "metadata": {},
   "outputs": [
    {
     "data": {
      "text/plain": [
       "'Java'"
      ]
     },
     "execution_count": 81,
     "metadata": {},
     "output_type": "execute_result"
    }
   ],
   "source": [
    "df = pd.DataFrame(\n",
    "    {\n",
    "        'Names' : ['C#', 'Java', 'Bootstrap', 'Kotlin'],\n",
    "        'Years' : [2000, 1995, 2011, 2011]\n",
    "    }\n",
    ")\n",
    "# Accessing the second entry in the 'Names' series\n",
    "df['Names'][1]"
   ]
  },
  {
   "cell_type": "markdown",
   "id": "6b127af2",
   "metadata": {},
   "source": [
    "## Creating a Series from Scratch"
   ]
  },
  {
   "cell_type": "code",
   "execution_count": 82,
   "id": "b5916c36",
   "metadata": {},
   "outputs": [
    {
     "data": {
      "text/plain": [
       "0      6489\n",
       "1    Hey Ho\n",
       "2      2169\n",
       "3      True\n",
       "4      3.15\n",
       "Name: count, dtype: object"
      ]
     },
     "execution_count": 82,
     "metadata": {},
     "output_type": "execute_result"
    }
   ],
   "source": [
    "ct = pd.Series([6489,'Hey Ho',2169,True,3.15], name='count')\n",
    "ct"
   ]
  },
  {
   "cell_type": "markdown",
   "id": "bf97bd57",
   "metadata": {},
   "source": [
    "## Creating DataFrame from Repository"
   ]
  },
  {
   "cell_type": "code",
   "execution_count": 83,
   "id": "adc9f518",
   "metadata": {},
   "outputs": [
    {
     "name": "stdout",
     "output_type": "stream",
     "text": [
      "    0\n",
      "0  \\n\n",
      "1  \\n\n",
      "2  \\n\n",
      "3  \\n\n",
      "4  \\n\n"
     ]
    }
   ],
   "source": [
    "import requests, io\n",
    "\n",
    "url = 'https://github.com/iraqooh/JDBC-powered-ATM-Application/blob/main/data.txt'\n",
    "response = requests.get(url)\n",
    "if response.status_code == 200:\n",
    "    data = response.text\n",
    "    dframe = pd.DataFrame(io.StringIO(data))\n",
    "    print(dframe.head())\n",
    "else:\n",
    "    print(\"Failed to retrieve the dataset. Status code:\",\n",
    "          response.status_code)"
   ]
  },
  {
   "cell_type": "markdown",
   "id": "2b744553",
   "metadata": {},
   "source": [
    "## Exercise 1"
   ]
  },
  {
   "cell_type": "code",
   "execution_count": 84,
   "id": "ce174a09",
   "metadata": {},
   "outputs": [],
   "source": [
    "data = {\n",
    "    'Sunday' : ['5th', '12th', '19th', '26th'],\n",
    "    'Monday' : ['6th', '13th', '20th', '27th'],\n",
    "    'Tuesday' : ['7th', '14th', '21st', '28th'],\n",
    "    'Wednesday' : ['8th', '15th', '22nd', '29th'],\n",
    "    'Thursday' : ['9th', '16th', '23rd', '30th'],\n",
    "    'Friday' : ['10th', '17th', '24th', '31st'],\n",
    "    'Saturday' : ['11th', '18th', '25th', ''],\n",
    "}\n",
    "\n",
    "dframe = pd.DataFrame(data)\n",
    "dframe\n",
    "dframe.to_csv('Exercise Python/calendar.csv', index=False)"
   ]
  },
  {
   "cell_type": "markdown",
   "id": "34f2cbd6",
   "metadata": {},
   "source": [
    "## Exercise 2"
   ]
  },
  {
   "cell_type": "code",
   "execution_count": 85,
   "id": "52293b95",
   "metadata": {},
   "outputs": [
    {
     "data": {
      "text/html": [
       "<div>\n",
       "<style scoped>\n",
       "    .dataframe tbody tr th:only-of-type {\n",
       "        vertical-align: middle;\n",
       "    }\n",
       "\n",
       "    .dataframe tbody tr th {\n",
       "        vertical-align: top;\n",
       "    }\n",
       "\n",
       "    .dataframe thead th {\n",
       "        text-align: right;\n",
       "    }\n",
       "</style>\n",
       "<table border=\"1\" class=\"dataframe\">\n",
       "  <thead>\n",
       "    <tr style=\"text-align: right;\">\n",
       "      <th></th>\n",
       "      <th>Monday</th>\n",
       "      <th>Tuesday</th>\n",
       "    </tr>\n",
       "  </thead>\n",
       "  <tbody>\n",
       "    <tr>\n",
       "      <th>0</th>\n",
       "      <td>6th</td>\n",
       "      <td>7th</td>\n",
       "    </tr>\n",
       "    <tr>\n",
       "      <th>1</th>\n",
       "      <td>13th</td>\n",
       "      <td>14th</td>\n",
       "    </tr>\n",
       "    <tr>\n",
       "      <th>2</th>\n",
       "      <td>20th</td>\n",
       "      <td>21st</td>\n",
       "    </tr>\n",
       "    <tr>\n",
       "      <th>3</th>\n",
       "      <td>27th</td>\n",
       "      <td>28th</td>\n",
       "    </tr>\n",
       "  </tbody>\n",
       "</table>\n",
       "</div>"
      ],
      "text/plain": [
       "  Monday Tuesday\n",
       "0    6th     7th\n",
       "1   13th    14th\n",
       "2   20th    21st\n",
       "3   27th    28th"
      ]
     },
     "execution_count": 85,
     "metadata": {},
     "output_type": "execute_result"
    }
   ],
   "source": [
    "subset = dframe[['Monday', 'Tuesday']]\n",
    "subset"
   ]
  },
  {
   "cell_type": "markdown",
   "id": "e300c16b",
   "metadata": {},
   "source": [
    "## Assignment a)"
   ]
  },
  {
   "cell_type": "code",
   "execution_count": 86,
   "id": "090d6b0f",
   "metadata": {},
   "outputs": [
    {
     "data": {
      "text/html": [
       "<div>\n",
       "<style scoped>\n",
       "    .dataframe tbody tr th:only-of-type {\n",
       "        vertical-align: middle;\n",
       "    }\n",
       "\n",
       "    .dataframe tbody tr th {\n",
       "        vertical-align: top;\n",
       "    }\n",
       "\n",
       "    .dataframe thead th {\n",
       "        text-align: right;\n",
       "    }\n",
       "</style>\n",
       "<table border=\"1\" class=\"dataframe\">\n",
       "  <thead>\n",
       "    <tr style=\"text-align: right;\">\n",
       "      <th></th>\n",
       "      <th>Duration</th>\n",
       "      <th>Pulse</th>\n",
       "      <th>Maxpulse</th>\n",
       "      <th>Calories</th>\n",
       "    </tr>\n",
       "  </thead>\n",
       "  <tbody>\n",
       "    <tr>\n",
       "      <th>0</th>\n",
       "      <td>60</td>\n",
       "      <td>110</td>\n",
       "      <td>130</td>\n",
       "      <td>409.1</td>\n",
       "    </tr>\n",
       "    <tr>\n",
       "      <th>1</th>\n",
       "      <td>60</td>\n",
       "      <td>117</td>\n",
       "      <td>145</td>\n",
       "      <td>479.0</td>\n",
       "    </tr>\n",
       "    <tr>\n",
       "      <th>2</th>\n",
       "      <td>60</td>\n",
       "      <td>103</td>\n",
       "      <td>135</td>\n",
       "      <td>340.0</td>\n",
       "    </tr>\n",
       "    <tr>\n",
       "      <th>3</th>\n",
       "      <td>45</td>\n",
       "      <td>109</td>\n",
       "      <td>175</td>\n",
       "      <td>282.4</td>\n",
       "    </tr>\n",
       "    <tr>\n",
       "      <th>4</th>\n",
       "      <td>45</td>\n",
       "      <td>117</td>\n",
       "      <td>148</td>\n",
       "      <td>406.0</td>\n",
       "    </tr>\n",
       "  </tbody>\n",
       "</table>\n",
       "</div>"
      ],
      "text/plain": [
       "   Duration  Pulse  Maxpulse  Calories\n",
       "0        60    110       130     409.1\n",
       "1        60    117       145     479.0\n",
       "2        60    103       135     340.0\n",
       "3        45    109       175     282.4\n",
       "4        45    117       148     406.0"
      ]
     },
     "execution_count": 86,
     "metadata": {},
     "output_type": "execute_result"
    }
   ],
   "source": [
    "# Reading the file\n",
    "path = 'Exercise Python/'\n",
    "df = pd.read_csv(path + 'mine.csv')\n",
    "\n",
    "# Getting top 5 entries\n",
    "df.head()"
   ]
  },
  {
   "cell_type": "code",
   "execution_count": 87,
   "id": "84420fd6",
   "metadata": {},
   "outputs": [
    {
     "data": {
      "text/html": [
       "<div>\n",
       "<style scoped>\n",
       "    .dataframe tbody tr th:only-of-type {\n",
       "        vertical-align: middle;\n",
       "    }\n",
       "\n",
       "    .dataframe tbody tr th {\n",
       "        vertical-align: top;\n",
       "    }\n",
       "\n",
       "    .dataframe thead th {\n",
       "        text-align: right;\n",
       "    }\n",
       "</style>\n",
       "<table border=\"1\" class=\"dataframe\">\n",
       "  <thead>\n",
       "    <tr style=\"text-align: right;\">\n",
       "      <th></th>\n",
       "      <th>Duration</th>\n",
       "      <th>Pulse</th>\n",
       "      <th>Maxpulse</th>\n",
       "      <th>Calories</th>\n",
       "    </tr>\n",
       "  </thead>\n",
       "  <tbody>\n",
       "    <tr>\n",
       "      <th>164</th>\n",
       "      <td>60</td>\n",
       "      <td>105</td>\n",
       "      <td>140</td>\n",
       "      <td>290.8</td>\n",
       "    </tr>\n",
       "    <tr>\n",
       "      <th>165</th>\n",
       "      <td>60</td>\n",
       "      <td>110</td>\n",
       "      <td>145</td>\n",
       "      <td>300.0</td>\n",
       "    </tr>\n",
       "    <tr>\n",
       "      <th>166</th>\n",
       "      <td>60</td>\n",
       "      <td>115</td>\n",
       "      <td>145</td>\n",
       "      <td>310.2</td>\n",
       "    </tr>\n",
       "    <tr>\n",
       "      <th>167</th>\n",
       "      <td>75</td>\n",
       "      <td>120</td>\n",
       "      <td>150</td>\n",
       "      <td>320.4</td>\n",
       "    </tr>\n",
       "    <tr>\n",
       "      <th>168</th>\n",
       "      <td>75</td>\n",
       "      <td>125</td>\n",
       "      <td>150</td>\n",
       "      <td>330.4</td>\n",
       "    </tr>\n",
       "  </tbody>\n",
       "</table>\n",
       "</div>"
      ],
      "text/plain": [
       "     Duration  Pulse  Maxpulse  Calories\n",
       "164        60    105       140     290.8\n",
       "165        60    110       145     300.0\n",
       "166        60    115       145     310.2\n",
       "167        75    120       150     320.4\n",
       "168        75    125       150     330.4"
      ]
     },
     "execution_count": 87,
     "metadata": {},
     "output_type": "execute_result"
    }
   ],
   "source": [
    "# Getting last 5 entries\n",
    "df.tail()"
   ]
  },
  {
   "cell_type": "code",
   "execution_count": 88,
   "id": "f1a59671",
   "metadata": {},
   "outputs": [
    {
     "name": "stdout",
     "output_type": "stream",
     "text": [
      "<class 'pandas.core.frame.DataFrame'>\n",
      "RangeIndex: 169 entries, 0 to 168\n",
      "Data columns (total 4 columns):\n",
      " #   Column    Non-Null Count  Dtype  \n",
      "---  ------    --------------  -----  \n",
      " 0   Duration  169 non-null    int64  \n",
      " 1   Pulse     169 non-null    int64  \n",
      " 2   Maxpulse  169 non-null    int64  \n",
      " 3   Calories  164 non-null    float64\n",
      "dtypes: float64(1), int64(3)\n",
      "memory usage: 5.4 KB\n"
     ]
    }
   ],
   "source": [
    "# Getting technical information\n",
    "df.info()"
   ]
  },
  {
   "cell_type": "code",
   "execution_count": 89,
   "id": "6afc1795",
   "metadata": {},
   "outputs": [
    {
     "data": {
      "text/plain": [
       "Duration    0\n",
       "Pulse       0\n",
       "Maxpulse    0\n",
       "Calories    5\n",
       "dtype: int64"
      ]
     },
     "execution_count": 89,
     "metadata": {},
     "output_type": "execute_result"
    }
   ],
   "source": [
    "# Calculating number of null values\n",
    "df.isnull().sum()"
   ]
  },
  {
   "cell_type": "code",
   "execution_count": 90,
   "id": "bb2acc32",
   "metadata": {},
   "outputs": [
    {
     "data": {
      "text/plain": [
       "Duration    0\n",
       "Pulse       0\n",
       "Maxpulse    0\n",
       "Calories    0\n",
       "dtype: int64"
      ]
     },
     "execution_count": 90,
     "metadata": {},
     "output_type": "execute_result"
    }
   ],
   "source": [
    "# Removing entries with null values and returning a new copy of the dataframe\n",
    "df_filtered = df.dropna(inplace=False)\n",
    "\n",
    "# Checking for null values\n",
    "df_filtered.isnull().sum()"
   ]
  },
  {
   "cell_type": "code",
   "execution_count": 91,
   "id": "bc1c407f",
   "metadata": {},
   "outputs": [
    {
     "data": {
      "text/plain": [
       "375.79024390243904"
      ]
     },
     "execution_count": 91,
     "metadata": {},
     "output_type": "execute_result"
    }
   ],
   "source": [
    "# Getting average or mean values for the calories series\n",
    "avg_calories = df.describe()['Calories']['mean']\n",
    "# or\n",
    "# avg_caloriee = df['Calories'].mean()\n",
    "avg_calories"
   ]
  },
  {
   "cell_type": "code",
   "execution_count": 92,
   "id": "81985865",
   "metadata": {},
   "outputs": [
    {
     "data": {
      "text/plain": [
       "Duration    0\n",
       "Pulse       0\n",
       "Maxpulse    0\n",
       "Calories    0\n",
       "dtype: int64"
      ]
     },
     "execution_count": 92,
     "metadata": {},
     "output_type": "execute_result"
    }
   ],
   "source": [
    "# Replacing null values in the 'Calories' column with the average\n",
    "df['Calories'].fillna(avg_calories, inplace=True)\n",
    "\n",
    "# Checking for null values\n",
    "df.isnull().sum()"
   ]
  },
  {
   "cell_type": "code",
   "execution_count": 93,
   "id": "9148439b",
   "metadata": {},
   "outputs": [
    {
     "data": {
      "text/plain": [
       "Duration      int64\n",
       "Pulse         int64\n",
       "Maxpulse      int64\n",
       "Calories    float64\n",
       "dtype: object"
      ]
     },
     "execution_count": 93,
     "metadata": {},
     "output_type": "execute_result"
    }
   ],
   "source": [
    "# Getting data type of each series\n",
    "df.dtypes"
   ]
  },
  {
   "cell_type": "code",
   "execution_count": 94,
   "id": "5d0b175b",
   "metadata": {},
   "outputs": [
    {
     "data": {
      "text/plain": [
       "7"
      ]
     },
     "execution_count": 94,
     "metadata": {},
     "output_type": "execute_result"
    }
   ],
   "source": [
    "# Checking for duplicates in the data\n",
    "df.duplicated().sum()"
   ]
  },
  {
   "cell_type": "code",
   "execution_count": 95,
   "id": "de6c8ed3",
   "metadata": {},
   "outputs": [
    {
     "data": {
      "text/plain": [
       "0"
      ]
     },
     "execution_count": 95,
     "metadata": {},
     "output_type": "execute_result"
    }
   ],
   "source": [
    "# Removing the duplicates while keeping only the first occurrence\n",
    "# Within the same dataframe\n",
    "df.drop_duplicates(inplace=True)\n",
    "\n",
    "# Checking for duplicates after removing them\n",
    "df.duplicated().sum()"
   ]
  },
  {
   "cell_type": "code",
   "execution_count": 96,
   "id": "b8d388f6",
   "metadata": {},
   "outputs": [
    {
     "data": {
      "text/html": [
       "<div>\n",
       "<style scoped>\n",
       "    .dataframe tbody tr th:only-of-type {\n",
       "        vertical-align: middle;\n",
       "    }\n",
       "\n",
       "    .dataframe tbody tr th {\n",
       "        vertical-align: top;\n",
       "    }\n",
       "\n",
       "    .dataframe thead th {\n",
       "        text-align: right;\n",
       "    }\n",
       "</style>\n",
       "<table border=\"1\" class=\"dataframe\">\n",
       "  <thead>\n",
       "    <tr style=\"text-align: right;\">\n",
       "      <th></th>\n",
       "      <th>Duration</th>\n",
       "      <th>Pulse</th>\n",
       "      <th>Maxpulse</th>\n",
       "      <th>Calories</th>\n",
       "    </tr>\n",
       "  </thead>\n",
       "  <tbody>\n",
       "    <tr>\n",
       "      <th>Duration</th>\n",
       "      <td>1.000000</td>\n",
       "      <td>-0.162098</td>\n",
       "      <td>0.003578</td>\n",
       "      <td>0.921907</td>\n",
       "    </tr>\n",
       "    <tr>\n",
       "      <th>Pulse</th>\n",
       "      <td>-0.162098</td>\n",
       "      <td>1.000000</td>\n",
       "      <td>0.787035</td>\n",
       "      <td>0.015408</td>\n",
       "    </tr>\n",
       "    <tr>\n",
       "      <th>Maxpulse</th>\n",
       "      <td>0.003578</td>\n",
       "      <td>0.787035</td>\n",
       "      <td>1.000000</td>\n",
       "      <td>0.194031</td>\n",
       "    </tr>\n",
       "    <tr>\n",
       "      <th>Calories</th>\n",
       "      <td>0.921907</td>\n",
       "      <td>0.015408</td>\n",
       "      <td>0.194031</td>\n",
       "      <td>1.000000</td>\n",
       "    </tr>\n",
       "  </tbody>\n",
       "</table>\n",
       "</div>"
      ],
      "text/plain": [
       "          Duration     Pulse  Maxpulse  Calories\n",
       "Duration  1.000000 -0.162098  0.003578  0.921907\n",
       "Pulse    -0.162098  1.000000  0.787035  0.015408\n",
       "Maxpulse  0.003578  0.787035  1.000000  0.194031\n",
       "Calories  0.921907  0.015408  0.194031  1.000000"
      ]
     },
     "execution_count": 96,
     "metadata": {},
     "output_type": "execute_result"
    }
   ],
   "source": [
    "# Creating a correlation matrix \n",
    "corr_matrix = df.corr()\n",
    "corr_matrix"
   ]
  },
  {
   "cell_type": "code",
   "execution_count": 97,
   "id": "e479d5ad",
   "metadata": {},
   "outputs": [
    {
     "data": {
      "text/html": [
       "<div>\n",
       "<style scoped>\n",
       "    .dataframe tbody tr th:only-of-type {\n",
       "        vertical-align: middle;\n",
       "    }\n",
       "\n",
       "    .dataframe tbody tr th {\n",
       "        vertical-align: top;\n",
       "    }\n",
       "\n",
       "    .dataframe thead th {\n",
       "        text-align: right;\n",
       "    }\n",
       "</style>\n",
       "<table border=\"1\" class=\"dataframe\">\n",
       "  <thead>\n",
       "    <tr style=\"text-align: right;\">\n",
       "      <th></th>\n",
       "      <th>Duration</th>\n",
       "      <th>Pulse</th>\n",
       "      <th>Maxpulse</th>\n",
       "      <th>Calories</th>\n",
       "    </tr>\n",
       "  </thead>\n",
       "  <tbody>\n",
       "    <tr>\n",
       "      <th>0</th>\n",
       "      <td>60</td>\n",
       "      <td>110</td>\n",
       "      <td>130</td>\n",
       "      <td>409.1</td>\n",
       "    </tr>\n",
       "    <tr>\n",
       "      <th>1</th>\n",
       "      <td>60</td>\n",
       "      <td>117</td>\n",
       "      <td>145</td>\n",
       "      <td>479.0</td>\n",
       "    </tr>\n",
       "    <tr>\n",
       "      <th>2</th>\n",
       "      <td>60</td>\n",
       "      <td>103</td>\n",
       "      <td>135</td>\n",
       "      <td>340.0</td>\n",
       "    </tr>\n",
       "    <tr>\n",
       "      <th>3</th>\n",
       "      <td>45</td>\n",
       "      <td>109</td>\n",
       "      <td>175</td>\n",
       "      <td>282.4</td>\n",
       "    </tr>\n",
       "    <tr>\n",
       "      <th>4</th>\n",
       "      <td>45</td>\n",
       "      <td>117</td>\n",
       "      <td>148</td>\n",
       "      <td>406.0</td>\n",
       "    </tr>\n",
       "    <tr>\n",
       "      <th>...</th>\n",
       "      <td>...</td>\n",
       "      <td>...</td>\n",
       "      <td>...</td>\n",
       "      <td>...</td>\n",
       "    </tr>\n",
       "    <tr>\n",
       "      <th>164</th>\n",
       "      <td>60</td>\n",
       "      <td>105</td>\n",
       "      <td>140</td>\n",
       "      <td>290.8</td>\n",
       "    </tr>\n",
       "    <tr>\n",
       "      <th>165</th>\n",
       "      <td>60</td>\n",
       "      <td>110</td>\n",
       "      <td>145</td>\n",
       "      <td>300.0</td>\n",
       "    </tr>\n",
       "    <tr>\n",
       "      <th>166</th>\n",
       "      <td>60</td>\n",
       "      <td>115</td>\n",
       "      <td>145</td>\n",
       "      <td>310.2</td>\n",
       "    </tr>\n",
       "    <tr>\n",
       "      <th>167</th>\n",
       "      <td>75</td>\n",
       "      <td>120</td>\n",
       "      <td>150</td>\n",
       "      <td>320.4</td>\n",
       "    </tr>\n",
       "    <tr>\n",
       "      <th>168</th>\n",
       "      <td>75</td>\n",
       "      <td>125</td>\n",
       "      <td>150</td>\n",
       "      <td>330.4</td>\n",
       "    </tr>\n",
       "  </tbody>\n",
       "</table>\n",
       "<p>162 rows × 4 columns</p>\n",
       "</div>"
      ],
      "text/plain": [
       "     Duration  Pulse  Maxpulse  Calories\n",
       "0          60    110       130     409.1\n",
       "1          60    117       145     479.0\n",
       "2          60    103       135     340.0\n",
       "3          45    109       175     282.4\n",
       "4          45    117       148     406.0\n",
       "..        ...    ...       ...       ...\n",
       "164        60    105       140     290.8\n",
       "165        60    110       145     300.0\n",
       "166        60    115       145     310.2\n",
       "167        75    120       150     320.4\n",
       "168        75    125       150     330.4\n",
       "\n",
       "[162 rows x 4 columns]"
      ]
     },
     "execution_count": 97,
     "metadata": {},
     "output_type": "execute_result"
    }
   ],
   "source": [
    "# Writing cleaned data to file\n",
    "df.to_csv(path + 'mine_clean.csv', index=False)\n",
    "\n",
    "# Displaying cleaned data\n",
    "df"
   ]
  },
  {
   "cell_type": "markdown",
   "id": "7e0e3846",
   "metadata": {},
   "source": [
    "## Assignment b)"
   ]
  },
  {
   "cell_type": "code",
   "execution_count": 98,
   "id": "a341c957",
   "metadata": {},
   "outputs": [
    {
     "data": {
      "text/html": [
       "<div>\n",
       "<style scoped>\n",
       "    .dataframe tbody tr th:only-of-type {\n",
       "        vertical-align: middle;\n",
       "    }\n",
       "\n",
       "    .dataframe tbody tr th {\n",
       "        vertical-align: top;\n",
       "    }\n",
       "\n",
       "    .dataframe thead th {\n",
       "        text-align: right;\n",
       "    }\n",
       "</style>\n",
       "<table border=\"1\" class=\"dataframe\">\n",
       "  <thead>\n",
       "    <tr style=\"text-align: right;\">\n",
       "      <th></th>\n",
       "      <th>Name</th>\n",
       "      <th>city</th>\n",
       "      <th>age</th>\n",
       "      <th>py-score</th>\n",
       "    </tr>\n",
       "  </thead>\n",
       "  <tbody>\n",
       "    <tr>\n",
       "      <th>0</th>\n",
       "      <td>Emma</td>\n",
       "      <td>Kampala</td>\n",
       "      <td>23</td>\n",
       "      <td>90</td>\n",
       "    </tr>\n",
       "    <tr>\n",
       "      <th>1</th>\n",
       "      <td>Wilber</td>\n",
       "      <td>Mbale</td>\n",
       "      <td>26</td>\n",
       "      <td>75</td>\n",
       "    </tr>\n",
       "    <tr>\n",
       "      <th>2</th>\n",
       "      <td>Robin</td>\n",
       "      <td>Gulu</td>\n",
       "      <td>25</td>\n",
       "      <td>mine</td>\n",
       "    </tr>\n",
       "    <tr>\n",
       "      <th>3</th>\n",
       "      <td>Tevor</td>\n",
       "      <td>Livingstone</td>\n",
       "      <td>NaN</td>\n",
       "      <td>89</td>\n",
       "    </tr>\n",
       "    <tr>\n",
       "      <th>4</th>\n",
       "      <td>Yeko</td>\n",
       "      <td>Tororo</td>\n",
       "      <td>20</td>\n",
       "      <td>94</td>\n",
       "    </tr>\n",
       "  </tbody>\n",
       "</table>\n",
       "</div>"
      ],
      "text/plain": [
       "     Name         city  age py-score\n",
       "0    Emma      Kampala   23       90\n",
       "1  Wilber        Mbale   26       75\n",
       "2   Robin         Gulu   25     mine\n",
       "3   Tevor  Livingstone  NaN       89\n",
       "4    Yeko       Tororo   20       94"
      ]
     },
     "execution_count": 98,
     "metadata": {},
     "output_type": "execute_result"
    }
   ],
   "source": [
    "# Reading the file\n",
    "df = pd.read_csv(path + 'Work.csv')\n",
    "\n",
    "# Getting top 5 entries\n",
    "df.head()"
   ]
  },
  {
   "cell_type": "code",
   "execution_count": 99,
   "id": "13f1a163",
   "metadata": {},
   "outputs": [
    {
     "data": {
      "text/plain": [
       "(7, 4)"
      ]
     },
     "execution_count": 99,
     "metadata": {},
     "output_type": "execute_result"
    }
   ],
   "source": [
    "# Getting the shape of the data\n",
    "df.shape"
   ]
  },
  {
   "cell_type": "code",
   "execution_count": 100,
   "id": "a75c3bd5",
   "metadata": {},
   "outputs": [
    {
     "data": {
      "text/html": [
       "<div>\n",
       "<style scoped>\n",
       "    .dataframe tbody tr th:only-of-type {\n",
       "        vertical-align: middle;\n",
       "    }\n",
       "\n",
       "    .dataframe tbody tr th {\n",
       "        vertical-align: top;\n",
       "    }\n",
       "\n",
       "    .dataframe thead th {\n",
       "        text-align: right;\n",
       "    }\n",
       "</style>\n",
       "<table border=\"1\" class=\"dataframe\">\n",
       "  <thead>\n",
       "    <tr style=\"text-align: right;\">\n",
       "      <th></th>\n",
       "      <th>Name</th>\n",
       "      <th>city</th>\n",
       "      <th>age</th>\n",
       "      <th>py-score</th>\n",
       "    </tr>\n",
       "  </thead>\n",
       "  <tbody>\n",
       "    <tr>\n",
       "      <th>2</th>\n",
       "      <td>Robin</td>\n",
       "      <td>Gulu</td>\n",
       "      <td>25</td>\n",
       "      <td>mine</td>\n",
       "    </tr>\n",
       "    <tr>\n",
       "      <th>3</th>\n",
       "      <td>Tevor</td>\n",
       "      <td>Livingstone</td>\n",
       "      <td>NaN</td>\n",
       "      <td>89</td>\n",
       "    </tr>\n",
       "    <tr>\n",
       "      <th>4</th>\n",
       "      <td>Yeko</td>\n",
       "      <td>Tororo</td>\n",
       "      <td>20</td>\n",
       "      <td>94</td>\n",
       "    </tr>\n",
       "    <tr>\n",
       "      <th>5</th>\n",
       "      <td>Miriam</td>\n",
       "      <td>Arua</td>\n",
       "      <td>Train</td>\n",
       "      <td>NaN</td>\n",
       "    </tr>\n",
       "    <tr>\n",
       "      <th>6</th>\n",
       "      <td>Jesca</td>\n",
       "      <td>Mbarara</td>\n",
       "      <td>21</td>\n",
       "      <td>84</td>\n",
       "    </tr>\n",
       "  </tbody>\n",
       "</table>\n",
       "</div>"
      ],
      "text/plain": [
       "     Name         city    age py-score\n",
       "2   Robin         Gulu     25     mine\n",
       "3   Tevor  Livingstone    NaN       89\n",
       "4    Yeko       Tororo     20       94\n",
       "5  Miriam         Arua  Train      NaN\n",
       "6   Jesca      Mbarara     21       84"
      ]
     },
     "execution_count": 100,
     "metadata": {},
     "output_type": "execute_result"
    }
   ],
   "source": [
    "# Getting last 5 entries\n",
    "df.tail()"
   ]
  },
  {
   "cell_type": "code",
   "execution_count": 101,
   "id": "080928f4",
   "metadata": {},
   "outputs": [
    {
     "name": "stdout",
     "output_type": "stream",
     "text": [
      "<class 'pandas.core.frame.DataFrame'>\n",
      "RangeIndex: 7 entries, 0 to 6\n",
      "Data columns (total 4 columns):\n",
      " #   Column    Non-Null Count  Dtype \n",
      "---  ------    --------------  ----- \n",
      " 0   Name      7 non-null      object\n",
      " 1   city      7 non-null      object\n",
      " 2   age       6 non-null      object\n",
      " 3   py-score  6 non-null      object\n",
      "dtypes: object(4)\n",
      "memory usage: 352.0+ bytes\n"
     ]
    }
   ],
   "source": [
    "# Getting technical information\n",
    "df.info()"
   ]
  },
  {
   "cell_type": "code",
   "execution_count": 102,
   "id": "895aae7a",
   "metadata": {},
   "outputs": [
    {
     "data": {
      "text/plain": [
       "Name        0\n",
       "city        0\n",
       "age         1\n",
       "py-score    1\n",
       "dtype: int64"
      ]
     },
     "execution_count": 102,
     "metadata": {},
     "output_type": "execute_result"
    }
   ],
   "source": [
    "# Calculating number of null values\n",
    "df.isnull().sum()"
   ]
  },
  {
   "cell_type": "code",
   "execution_count": 103,
   "id": "9c6076b9",
   "metadata": {},
   "outputs": [
    {
     "data": {
      "text/plain": [
       "Name        0\n",
       "city        0\n",
       "age         0\n",
       "py-score    0\n",
       "dtype: int64"
      ]
     },
     "execution_count": 103,
     "metadata": {},
     "output_type": "execute_result"
    }
   ],
   "source": [
    "# Removing entries with null values and returning a new copy of the dataframe\n",
    "df_filtered = df.dropna(inplace=False)\n",
    "\n",
    "# Checking for null values\n",
    "df_filtered.isnull().sum()"
   ]
  },
  {
   "cell_type": "code",
   "execution_count": 104,
   "id": "4f9b4942",
   "metadata": {},
   "outputs": [
    {
     "data": {
      "text/plain": [
       "Name         object\n",
       "city         object\n",
       "age         float64\n",
       "py-score     object\n",
       "dtype: object"
      ]
     },
     "execution_count": 104,
     "metadata": {},
     "output_type": "execute_result"
    }
   ],
   "source": [
    "# Since the dataset has only 7 entries, \n",
    "# I wouldn't remove those with null values in some columns\n",
    "# Instead, I will replace them with a default value\n",
    "# First, ensure all values in the 'age' column are integers\n",
    "df['age'] = pd.to_numeric(df['age'], errors='coerce')\n",
    "\n",
    "# Checking the new data type of the 'age' column\n",
    "df.dtypes"
   ]
  },
  {
   "cell_type": "code",
   "execution_count": 105,
   "id": "61a2d716",
   "metadata": {},
   "outputs": [
    {
     "data": {
      "text/plain": [
       "23.0"
      ]
     },
     "execution_count": 105,
     "metadata": {},
     "output_type": "execute_result"
    }
   ],
   "source": [
    "# Getting the average age\n",
    "avg_age = df['age'].describe()['mean']\n",
    "avg_age"
   ]
  },
  {
   "cell_type": "code",
   "execution_count": 106,
   "id": "be44a9a0",
   "metadata": {},
   "outputs": [
    {
     "data": {
      "text/plain": [
       "2"
      ]
     },
     "execution_count": 106,
     "metadata": {},
     "output_type": "execute_result"
    }
   ],
   "source": [
    "# Getting number of null values in the 'age' column\n",
    "df['age'].isna().sum()"
   ]
  },
  {
   "cell_type": "code",
   "execution_count": 107,
   "id": "60929b15",
   "metadata": {},
   "outputs": [
    {
     "data": {
      "text/plain": [
       "Name        0\n",
       "city        0\n",
       "age         0\n",
       "py-score    1\n",
       "dtype: int64"
      ]
     },
     "execution_count": 107,
     "metadata": {},
     "output_type": "execute_result"
    }
   ],
   "source": [
    "# Replacing the null values with the average value in the 'age' column\n",
    "df['age'] = df['age'].fillna(avg_age)\n",
    "\n",
    "# Checking for null values in the edited dataframe\n",
    "df.isna().sum()"
   ]
  },
  {
   "cell_type": "code",
   "execution_count": 108,
   "id": "525768c6",
   "metadata": {},
   "outputs": [
    {
     "data": {
      "text/plain": [
       "Name         object\n",
       "city         object\n",
       "age         float64\n",
       "py-score    float64\n",
       "dtype: object"
      ]
     },
     "execution_count": 108,
     "metadata": {},
     "output_type": "execute_result"
    }
   ],
   "source": [
    "# Ensuring all values in the 'py-score' column are integers\n",
    "df['py-score'] = pd.to_numeric(df['py-score'], errors='coerce')\n",
    "\n",
    "# Checking the new data type of the 'age' column\n",
    "df.dtypes"
   ]
  },
  {
   "cell_type": "code",
   "execution_count": 109,
   "id": "ff6db23d",
   "metadata": {},
   "outputs": [
    {
     "data": {
      "text/plain": [
       "86.4"
      ]
     },
     "execution_count": 109,
     "metadata": {},
     "output_type": "execute_result"
    }
   ],
   "source": [
    "# Getting the average age\n",
    "avg_py_score = df['py-score'].describe()['mean']\n",
    "avg_py_score"
   ]
  },
  {
   "cell_type": "code",
   "execution_count": 110,
   "id": "3e15f477",
   "metadata": {},
   "outputs": [
    {
     "data": {
      "text/plain": [
       "2"
      ]
     },
     "execution_count": 110,
     "metadata": {},
     "output_type": "execute_result"
    }
   ],
   "source": [
    "# Checking for null values in the 'py-score' column\n",
    "df['py-score'].isna().sum()"
   ]
  },
  {
   "cell_type": "code",
   "execution_count": 111,
   "id": "4704ea2a",
   "metadata": {},
   "outputs": [
    {
     "data": {
      "text/plain": [
       "Name        0\n",
       "city        0\n",
       "age         0\n",
       "py-score    0\n",
       "dtype: int64"
      ]
     },
     "execution_count": 111,
     "metadata": {},
     "output_type": "execute_result"
    }
   ],
   "source": [
    "# Replacing the null values with the average value in the 'py-score' column\n",
    "df['py-score'] = df['py-score'].fillna(avg_age)\n",
    "\n",
    "# Checking for null values in the edited dataframe\n",
    "df.isna().sum()"
   ]
  },
  {
   "cell_type": "code",
   "execution_count": 112,
   "id": "72cc0519",
   "metadata": {},
   "outputs": [
    {
     "data": {
      "text/plain": [
       "0"
      ]
     },
     "execution_count": 112,
     "metadata": {},
     "output_type": "execute_result"
    }
   ],
   "source": [
    "# Checking for duplicates in the data\n",
    "df.duplicated().sum()"
   ]
  },
  {
   "cell_type": "code",
   "execution_count": 113,
   "id": "1b23604b",
   "metadata": {},
   "outputs": [
    {
     "data": {
      "text/html": [
       "<div>\n",
       "<style scoped>\n",
       "    .dataframe tbody tr th:only-of-type {\n",
       "        vertical-align: middle;\n",
       "    }\n",
       "\n",
       "    .dataframe tbody tr th {\n",
       "        vertical-align: top;\n",
       "    }\n",
       "\n",
       "    .dataframe thead th {\n",
       "        text-align: right;\n",
       "    }\n",
       "</style>\n",
       "<table border=\"1\" class=\"dataframe\">\n",
       "  <thead>\n",
       "    <tr style=\"text-align: right;\">\n",
       "      <th></th>\n",
       "      <th>age</th>\n",
       "      <th>py-score</th>\n",
       "    </tr>\n",
       "  </thead>\n",
       "  <tbody>\n",
       "    <tr>\n",
       "      <th>age</th>\n",
       "      <td>1.000000</td>\n",
       "      <td>-0.454894</td>\n",
       "    </tr>\n",
       "    <tr>\n",
       "      <th>py-score</th>\n",
       "      <td>-0.454894</td>\n",
       "      <td>1.000000</td>\n",
       "    </tr>\n",
       "  </tbody>\n",
       "</table>\n",
       "</div>"
      ],
      "text/plain": [
       "               age  py-score\n",
       "age       1.000000 -0.454894\n",
       "py-score -0.454894  1.000000"
      ]
     },
     "execution_count": 113,
     "metadata": {},
     "output_type": "execute_result"
    }
   ],
   "source": [
    "# Creating a correlation matrix between the 'age' and 'py-score' columns\n",
    "corr_matrix = df[['age', 'py-score']].corr()\n",
    "corr_matrix"
   ]
  },
  {
   "cell_type": "code",
   "execution_count": 114,
   "id": "8da3823c",
   "metadata": {},
   "outputs": [
    {
     "data": {
      "text/html": [
       "<div>\n",
       "<style scoped>\n",
       "    .dataframe tbody tr th:only-of-type {\n",
       "        vertical-align: middle;\n",
       "    }\n",
       "\n",
       "    .dataframe tbody tr th {\n",
       "        vertical-align: top;\n",
       "    }\n",
       "\n",
       "    .dataframe thead th {\n",
       "        text-align: right;\n",
       "    }\n",
       "</style>\n",
       "<table border=\"1\" class=\"dataframe\">\n",
       "  <thead>\n",
       "    <tr style=\"text-align: right;\">\n",
       "      <th></th>\n",
       "      <th>Name</th>\n",
       "      <th>city</th>\n",
       "      <th>age</th>\n",
       "      <th>py-score</th>\n",
       "    </tr>\n",
       "  </thead>\n",
       "  <tbody>\n",
       "    <tr>\n",
       "      <th>0</th>\n",
       "      <td>Emma</td>\n",
       "      <td>Kampala</td>\n",
       "      <td>23.0</td>\n",
       "      <td>90.0</td>\n",
       "    </tr>\n",
       "    <tr>\n",
       "      <th>1</th>\n",
       "      <td>Wilber</td>\n",
       "      <td>Mbale</td>\n",
       "      <td>26.0</td>\n",
       "      <td>75.0</td>\n",
       "    </tr>\n",
       "    <tr>\n",
       "      <th>2</th>\n",
       "      <td>Robin</td>\n",
       "      <td>Gulu</td>\n",
       "      <td>25.0</td>\n",
       "      <td>23.0</td>\n",
       "    </tr>\n",
       "    <tr>\n",
       "      <th>3</th>\n",
       "      <td>Tevor</td>\n",
       "      <td>Livingstone</td>\n",
       "      <td>23.0</td>\n",
       "      <td>89.0</td>\n",
       "    </tr>\n",
       "    <tr>\n",
       "      <th>4</th>\n",
       "      <td>Yeko</td>\n",
       "      <td>Tororo</td>\n",
       "      <td>20.0</td>\n",
       "      <td>94.0</td>\n",
       "    </tr>\n",
       "    <tr>\n",
       "      <th>5</th>\n",
       "      <td>Miriam</td>\n",
       "      <td>Arua</td>\n",
       "      <td>23.0</td>\n",
       "      <td>23.0</td>\n",
       "    </tr>\n",
       "    <tr>\n",
       "      <th>6</th>\n",
       "      <td>Jesca</td>\n",
       "      <td>Mbarara</td>\n",
       "      <td>21.0</td>\n",
       "      <td>84.0</td>\n",
       "    </tr>\n",
       "  </tbody>\n",
       "</table>\n",
       "</div>"
      ],
      "text/plain": [
       "     Name         city   age  py-score\n",
       "0    Emma      Kampala  23.0      90.0\n",
       "1  Wilber        Mbale  26.0      75.0\n",
       "2   Robin         Gulu  25.0      23.0\n",
       "3   Tevor  Livingstone  23.0      89.0\n",
       "4    Yeko       Tororo  20.0      94.0\n",
       "5  Miriam         Arua  23.0      23.0\n",
       "6   Jesca      Mbarara  21.0      84.0"
      ]
     },
     "execution_count": 114,
     "metadata": {},
     "output_type": "execute_result"
    }
   ],
   "source": [
    "# Writing cleaned data to file\n",
    "df.to_csv(path + 'Work_clean.csv', index=False)\n",
    "\n",
    "# Displaying cleaned data\n",
    "df"
   ]
  }
 ],
 "metadata": {
  "kernelspec": {
   "display_name": "Python 3 (ipykernel)",
   "language": "python",
   "name": "python3"
  },
  "language_info": {
   "codemirror_mode": {
    "name": "ipython",
    "version": 3
   },
   "file_extension": ".py",
   "mimetype": "text/x-python",
   "name": "python",
   "nbconvert_exporter": "python",
   "pygments_lexer": "ipython3",
   "version": "3.9.16"
  }
 },
 "nbformat": 4,
 "nbformat_minor": 5
}
