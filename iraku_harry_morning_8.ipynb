{
 "cells": [
  {
   "cell_type": "markdown",
   "id": "6f31d25a",
   "metadata": {},
   "source": [
    "### Loading Dataset"
   ]
  },
  {
   "cell_type": "code",
   "execution_count": 386,
   "id": "52c492cc",
   "metadata": {},
   "outputs": [],
   "source": [
    "import pandas as pd\n",
    "import numpy as np\n",
    "import matplotlib.pyplot as plt\n",
    "import seaborn as sns"
   ]
  },
  {
   "cell_type": "code",
   "execution_count": 387,
   "id": "684c71dd",
   "metadata": {},
   "outputs": [
    {
     "data": {
      "text/html": [
       "<div>\n",
       "<style scoped>\n",
       "    .dataframe tbody tr th:only-of-type {\n",
       "        vertical-align: middle;\n",
       "    }\n",
       "\n",
       "    .dataframe tbody tr th {\n",
       "        vertical-align: top;\n",
       "    }\n",
       "\n",
       "    .dataframe thead th {\n",
       "        text-align: right;\n",
       "    }\n",
       "</style>\n",
       "<table border=\"1\" class=\"dataframe\">\n",
       "  <thead>\n",
       "    <tr style=\"text-align: right;\">\n",
       "      <th></th>\n",
       "      <th>Timestamp</th>\n",
       "      <th>gender</th>\n",
       "      <th>Age</th>\n",
       "      <th>emotion</th>\n",
       "      <th>YOB</th>\n",
       "      <th>CGPA</th>\n",
       "      <th>Do you have a Girl Friend or BOY Friend</th>\n",
       "      <th>Do you have Depression?</th>\n",
       "      <th>Do you have Anxiety?</th>\n",
       "      <th>Do you have Panic attack?</th>\n",
       "      <th>Did you have seek any specialist for a treatment?</th>\n",
       "      <th>Duration</th>\n",
       "      <th>Pulse</th>\n",
       "      <th>Maxpulse</th>\n",
       "      <th>Calories</th>\n",
       "    </tr>\n",
       "  </thead>\n",
       "  <tbody>\n",
       "    <tr>\n",
       "      <th>0</th>\n",
       "      <td>05/07/2023 09:38</td>\n",
       "      <td>Male</td>\n",
       "      <td>21.0</td>\n",
       "      <td>Content</td>\n",
       "      <td>2002</td>\n",
       "      <td>4.22</td>\n",
       "      <td>No</td>\n",
       "      <td>No</td>\n",
       "      <td>Yes</td>\n",
       "      <td>Yes</td>\n",
       "      <td>Yes</td>\n",
       "      <td>60</td>\n",
       "      <td>110</td>\n",
       "      <td>130</td>\n",
       "      <td>409.1</td>\n",
       "    </tr>\n",
       "    <tr>\n",
       "      <th>1</th>\n",
       "      <td>05/07/2023 09:38</td>\n",
       "      <td>Marabou stock</td>\n",
       "      <td>45.0</td>\n",
       "      <td>Weird</td>\n",
       "      <td>2100</td>\n",
       "      <td>8.9</td>\n",
       "      <td>Yes</td>\n",
       "      <td>Yes</td>\n",
       "      <td>Yes</td>\n",
       "      <td>Yes</td>\n",
       "      <td>No</td>\n",
       "      <td>60</td>\n",
       "      <td>117</td>\n",
       "      <td>145</td>\n",
       "      <td>479.0</td>\n",
       "    </tr>\n",
       "    <tr>\n",
       "      <th>2</th>\n",
       "      <td>05/07/2023 09:39</td>\n",
       "      <td>Female</td>\n",
       "      <td>20.0</td>\n",
       "      <td>Happy</td>\n",
       "      <td>2002</td>\n",
       "      <td>3.98</td>\n",
       "      <td>No</td>\n",
       "      <td>No</td>\n",
       "      <td>Yes</td>\n",
       "      <td>Yes</td>\n",
       "      <td>No</td>\n",
       "      <td>60</td>\n",
       "      <td>103</td>\n",
       "      <td>135</td>\n",
       "      <td>340.0</td>\n",
       "    </tr>\n",
       "    <tr>\n",
       "      <th>3</th>\n",
       "      <td>05/07/2023 09:39</td>\n",
       "      <td>Male</td>\n",
       "      <td>21.0</td>\n",
       "      <td>Happy</td>\n",
       "      <td>2003</td>\n",
       "      <td>4.37</td>\n",
       "      <td>No</td>\n",
       "      <td>No</td>\n",
       "      <td>No</td>\n",
       "      <td>No</td>\n",
       "      <td>Nope</td>\n",
       "      <td>45</td>\n",
       "      <td>109</td>\n",
       "      <td>175</td>\n",
       "      <td>282.4</td>\n",
       "    </tr>\n",
       "    <tr>\n",
       "      <th>4</th>\n",
       "      <td>05/07/2023 09:39</td>\n",
       "      <td>Female</td>\n",
       "      <td>21.0</td>\n",
       "      <td>Happy</td>\n",
       "      <td>2002</td>\n",
       "      <td>3.63</td>\n",
       "      <td>No</td>\n",
       "      <td>No</td>\n",
       "      <td>No</td>\n",
       "      <td>No</td>\n",
       "      <td>No</td>\n",
       "      <td>45</td>\n",
       "      <td>117</td>\n",
       "      <td>148</td>\n",
       "      <td>406.0</td>\n",
       "    </tr>\n",
       "    <tr>\n",
       "      <th>...</th>\n",
       "      <td>...</td>\n",
       "      <td>...</td>\n",
       "      <td>...</td>\n",
       "      <td>...</td>\n",
       "      <td>...</td>\n",
       "      <td>...</td>\n",
       "      <td>...</td>\n",
       "      <td>...</td>\n",
       "      <td>...</td>\n",
       "      <td>...</td>\n",
       "      <td>...</td>\n",
       "      <td>...</td>\n",
       "      <td>...</td>\n",
       "      <td>...</td>\n",
       "      <td>...</td>\n",
       "    </tr>\n",
       "    <tr>\n",
       "      <th>164</th>\n",
       "      <td>05/07/2023 09:44</td>\n",
       "      <td>Male</td>\n",
       "      <td>22.0</td>\n",
       "      <td>Angry</td>\n",
       "      <td>1999</td>\n",
       "      <td>3.5</td>\n",
       "      <td>Yes</td>\n",
       "      <td>No</td>\n",
       "      <td>No</td>\n",
       "      <td>No</td>\n",
       "      <td>No</td>\n",
       "      <td>60</td>\n",
       "      <td>105</td>\n",
       "      <td>140</td>\n",
       "      <td>290.8</td>\n",
       "    </tr>\n",
       "    <tr>\n",
       "      <th>165</th>\n",
       "      <td>05/07/2023 09:44</td>\n",
       "      <td>male</td>\n",
       "      <td>23.0</td>\n",
       "      <td>sad</td>\n",
       "      <td>1999</td>\n",
       "      <td>4</td>\n",
       "      <td>no</td>\n",
       "      <td>no</td>\n",
       "      <td>no</td>\n",
       "      <td>no</td>\n",
       "      <td>no</td>\n",
       "      <td>60</td>\n",
       "      <td>110</td>\n",
       "      <td>145</td>\n",
       "      <td>300.0</td>\n",
       "    </tr>\n",
       "    <tr>\n",
       "      <th>166</th>\n",
       "      <td>05/07/2023 09:44</td>\n",
       "      <td>male</td>\n",
       "      <td>20.0</td>\n",
       "      <td>calm</td>\n",
       "      <td>2002</td>\n",
       "      <td>3.7</td>\n",
       "      <td>yes</td>\n",
       "      <td>no</td>\n",
       "      <td>no</td>\n",
       "      <td>no</td>\n",
       "      <td>no</td>\n",
       "      <td>60</td>\n",
       "      <td>115</td>\n",
       "      <td>145</td>\n",
       "      <td>310.2</td>\n",
       "    </tr>\n",
       "    <tr>\n",
       "      <th>167</th>\n",
       "      <td>05/07/2023 09:44</td>\n",
       "      <td>Female</td>\n",
       "      <td>21.0</td>\n",
       "      <td>sad</td>\n",
       "      <td>2001</td>\n",
       "      <td>3.8</td>\n",
       "      <td>no</td>\n",
       "      <td>no</td>\n",
       "      <td>yes</td>\n",
       "      <td>no</td>\n",
       "      <td>no</td>\n",
       "      <td>75</td>\n",
       "      <td>120</td>\n",
       "      <td>150</td>\n",
       "      <td>320.4</td>\n",
       "    </tr>\n",
       "    <tr>\n",
       "      <th>168</th>\n",
       "      <td>05/07/2023 09:45</td>\n",
       "      <td>Female</td>\n",
       "      <td>20.0</td>\n",
       "      <td>Happy</td>\n",
       "      <td>2022</td>\n",
       "      <td>4......</td>\n",
       "      <td>no</td>\n",
       "      <td>no</td>\n",
       "      <td>no</td>\n",
       "      <td>yes</td>\n",
       "      <td>no</td>\n",
       "      <td>75</td>\n",
       "      <td>125</td>\n",
       "      <td>150</td>\n",
       "      <td>330.4</td>\n",
       "    </tr>\n",
       "  </tbody>\n",
       "</table>\n",
       "<p>169 rows × 15 columns</p>\n",
       "</div>"
      ],
      "text/plain": [
       "            Timestamp         gender   Age  emotion   YOB     CGPA  \\\n",
       "0    05/07/2023 09:38           Male  21.0  Content  2002     4.22   \n",
       "1    05/07/2023 09:38  Marabou stock  45.0    Weird  2100      8.9   \n",
       "2    05/07/2023 09:39        Female   20.0    Happy  2002     3.98   \n",
       "3    05/07/2023 09:39           Male  21.0    Happy  2003     4.37   \n",
       "4    05/07/2023 09:39         Female  21.0    Happy  2002     3.63   \n",
       "..                ...            ...   ...      ...   ...      ...   \n",
       "164  05/07/2023 09:44           Male  22.0   Angry   1999      3.5   \n",
       "165  05/07/2023 09:44           male  23.0      sad  1999        4   \n",
       "166  05/07/2023 09:44           male  20.0     calm  2002      3.7   \n",
       "167  05/07/2023 09:44         Female  21.0      sad  2001      3.8   \n",
       "168  05/07/2023 09:45         Female  20.0    Happy  2022  4......   \n",
       "\n",
       "    Do you have a Girl Friend or BOY Friend Do you have Depression?  \\\n",
       "0                                        No                      No   \n",
       "1                                       Yes                     Yes   \n",
       "2                                        No                      No   \n",
       "3                                        No                      No   \n",
       "4                                        No                      No   \n",
       "..                                      ...                     ...   \n",
       "164                                    Yes                       No   \n",
       "165                                      no                      no   \n",
       "166                                     yes                      no   \n",
       "167                                      no                      no   \n",
       "168                                      no                      no   \n",
       "\n",
       "    Do you have Anxiety? Do you have Panic attack?  \\\n",
       "0                    Yes                       Yes   \n",
       "1                    Yes                       Yes   \n",
       "2                    Yes                       Yes   \n",
       "3                     No                        No   \n",
       "4                     No                        No   \n",
       "..                   ...                       ...   \n",
       "164                   No                       No    \n",
       "165                   no                        no   \n",
       "166                   no                        no   \n",
       "167                  yes                        no   \n",
       "168                   no                       yes   \n",
       "\n",
       "    Did you have seek any specialist for a treatment?   Duration  Pulse  \\\n",
       "0                                                  Yes        60    110   \n",
       "1                                                   No        60    117   \n",
       "2                                                   No        60    103   \n",
       "3                                                 Nope        45    109   \n",
       "4                                                   No        45    117   \n",
       "..                                                 ...       ...    ...   \n",
       "164                                                 No        60    105   \n",
       "165                                                 no        60    110   \n",
       "166                                                 no        60    115   \n",
       "167                                                 no        75    120   \n",
       "168                                                 no        75    125   \n",
       "\n",
       "     Maxpulse  Calories  \n",
       "0         130     409.1  \n",
       "1         145     479.0  \n",
       "2         135     340.0  \n",
       "3         175     282.4  \n",
       "4         148     406.0  \n",
       "..        ...       ...  \n",
       "164       140     290.8  \n",
       "165       145     300.0  \n",
       "166       145     310.2  \n",
       "167       150     320.4  \n",
       "168       150     330.4  \n",
       "\n",
       "[169 rows x 15 columns]"
      ]
     },
     "execution_count": 387,
     "metadata": {},
     "output_type": "execute_result"
    }
   ],
   "source": [
    "df = pd.read_csv('bse_dataset4.csv')\n",
    "df"
   ]
  },
  {
   "cell_type": "markdown",
   "id": "f1e26ccc",
   "metadata": {},
   "source": [
    "### Displaying all Entries in the Dataframe"
   ]
  },
  {
   "cell_type": "code",
   "execution_count": 388,
   "id": "c4271246",
   "metadata": {},
   "outputs": [],
   "source": [
    "# pd.set_option('display.max_rows', None)"
   ]
  },
  {
   "cell_type": "markdown",
   "id": "1a400b0b",
   "metadata": {},
   "source": [
    "### Checking Data Structure & Technical Details"
   ]
  },
  {
   "cell_type": "code",
   "execution_count": 389,
   "id": "7952d20d",
   "metadata": {},
   "outputs": [
    {
     "data": {
      "text/plain": [
       "(169, 15)"
      ]
     },
     "execution_count": 389,
     "metadata": {},
     "output_type": "execute_result"
    }
   ],
   "source": [
    "df.shape"
   ]
  },
  {
   "cell_type": "code",
   "execution_count": 390,
   "id": "488a1de3",
   "metadata": {},
   "outputs": [
    {
     "data": {
      "text/plain": [
       "['Timestamp',\n",
       " 'gender',\n",
       " 'Age',\n",
       " 'emotion',\n",
       " 'YOB',\n",
       " 'CGPA',\n",
       " 'Do you have a Girl Friend or BOY Friend',\n",
       " 'Do you have Depression?',\n",
       " 'Do you have Anxiety?',\n",
       " 'Do you have Panic attack?',\n",
       " 'Did you have seek any specialist for a treatment? ',\n",
       " 'Duration',\n",
       " 'Pulse',\n",
       " 'Maxpulse',\n",
       " 'Calories']"
      ]
     },
     "execution_count": 390,
     "metadata": {},
     "output_type": "execute_result"
    }
   ],
   "source": [
    "list(df.columns)"
   ]
  },
  {
   "cell_type": "code",
   "execution_count": 391,
   "id": "07170625",
   "metadata": {},
   "outputs": [
    {
     "data": {
      "text/html": [
       "<div>\n",
       "<style scoped>\n",
       "    .dataframe tbody tr th:only-of-type {\n",
       "        vertical-align: middle;\n",
       "    }\n",
       "\n",
       "    .dataframe tbody tr th {\n",
       "        vertical-align: top;\n",
       "    }\n",
       "\n",
       "    .dataframe thead th {\n",
       "        text-align: right;\n",
       "    }\n",
       "</style>\n",
       "<table border=\"1\" class=\"dataframe\">\n",
       "  <thead>\n",
       "    <tr style=\"text-align: right;\">\n",
       "      <th></th>\n",
       "      <th>Age</th>\n",
       "      <th>Duration</th>\n",
       "      <th>Pulse</th>\n",
       "      <th>Maxpulse</th>\n",
       "      <th>Calories</th>\n",
       "    </tr>\n",
       "  </thead>\n",
       "  <tbody>\n",
       "    <tr>\n",
       "      <th>count</th>\n",
       "      <td>167.000000</td>\n",
       "      <td>169.000000</td>\n",
       "      <td>169.000000</td>\n",
       "      <td>169.000000</td>\n",
       "      <td>164.000000</td>\n",
       "    </tr>\n",
       "    <tr>\n",
       "      <th>mean</th>\n",
       "      <td>22.497006</td>\n",
       "      <td>63.846154</td>\n",
       "      <td>107.449704</td>\n",
       "      <td>134.071006</td>\n",
       "      <td>375.901829</td>\n",
       "    </tr>\n",
       "    <tr>\n",
       "      <th>std</th>\n",
       "      <td>4.951420</td>\n",
       "      <td>42.299949</td>\n",
       "      <td>14.517195</td>\n",
       "      <td>16.432971</td>\n",
       "      <td>266.331026</td>\n",
       "    </tr>\n",
       "    <tr>\n",
       "      <th>min</th>\n",
       "      <td>19.000000</td>\n",
       "      <td>15.000000</td>\n",
       "      <td>80.000000</td>\n",
       "      <td>100.000000</td>\n",
       "      <td>50.300000</td>\n",
       "    </tr>\n",
       "    <tr>\n",
       "      <th>25%</th>\n",
       "      <td>21.000000</td>\n",
       "      <td>45.000000</td>\n",
       "      <td>100.000000</td>\n",
       "      <td>124.000000</td>\n",
       "      <td>252.725000</td>\n",
       "    </tr>\n",
       "    <tr>\n",
       "      <th>50%</th>\n",
       "      <td>21.000000</td>\n",
       "      <td>60.000000</td>\n",
       "      <td>105.000000</td>\n",
       "      <td>131.000000</td>\n",
       "      <td>318.600000</td>\n",
       "    </tr>\n",
       "    <tr>\n",
       "      <th>75%</th>\n",
       "      <td>22.000000</td>\n",
       "      <td>60.000000</td>\n",
       "      <td>111.000000</td>\n",
       "      <td>141.000000</td>\n",
       "      <td>387.600000</td>\n",
       "    </tr>\n",
       "    <tr>\n",
       "      <th>max</th>\n",
       "      <td>68.000000</td>\n",
       "      <td>300.000000</td>\n",
       "      <td>159.000000</td>\n",
       "      <td>184.000000</td>\n",
       "      <td>1860.400000</td>\n",
       "    </tr>\n",
       "  </tbody>\n",
       "</table>\n",
       "</div>"
      ],
      "text/plain": [
       "              Age    Duration       Pulse    Maxpulse     Calories\n",
       "count  167.000000  169.000000  169.000000  169.000000   164.000000\n",
       "mean    22.497006   63.846154  107.449704  134.071006   375.901829\n",
       "std      4.951420   42.299949   14.517195   16.432971   266.331026\n",
       "min     19.000000   15.000000   80.000000  100.000000    50.300000\n",
       "25%     21.000000   45.000000  100.000000  124.000000   252.725000\n",
       "50%     21.000000   60.000000  105.000000  131.000000   318.600000\n",
       "75%     22.000000   60.000000  111.000000  141.000000   387.600000\n",
       "max     68.000000  300.000000  159.000000  184.000000  1860.400000"
      ]
     },
     "execution_count": 391,
     "metadata": {},
     "output_type": "execute_result"
    }
   ],
   "source": [
    "df.describe()"
   ]
  },
  {
   "cell_type": "code",
   "execution_count": 392,
   "id": "63239216",
   "metadata": {
    "scrolled": true
   },
   "outputs": [
    {
     "name": "stdout",
     "output_type": "stream",
     "text": [
      "<class 'pandas.core.frame.DataFrame'>\n",
      "RangeIndex: 169 entries, 0 to 168\n",
      "Data columns (total 15 columns):\n",
      " #   Column                                              Non-Null Count  Dtype  \n",
      "---  ------                                              --------------  -----  \n",
      " 0   Timestamp                                           168 non-null    object \n",
      " 1   gender                                              169 non-null    object \n",
      " 2   Age                                                 167 non-null    float64\n",
      " 3   emotion                                             168 non-null    object \n",
      " 4   YOB                                                 169 non-null    object \n",
      " 5   CGPA                                                169 non-null    object \n",
      " 6   Do you have a Girl Friend or BOY Friend             169 non-null    object \n",
      " 7   Do you have Depression?                             169 non-null    object \n",
      " 8   Do you have Anxiety?                                169 non-null    object \n",
      " 9   Do you have Panic attack?                           169 non-null    object \n",
      " 10  Did you have seek any specialist for a treatment?   169 non-null    object \n",
      " 11  Duration                                            169 non-null    int64  \n",
      " 12  Pulse                                               169 non-null    int64  \n",
      " 13  Maxpulse                                            169 non-null    int64  \n",
      " 14  Calories                                            164 non-null    float64\n",
      "dtypes: float64(2), int64(3), object(10)\n",
      "memory usage: 19.9+ KB\n"
     ]
    }
   ],
   "source": [
    "df.info()"
   ]
  },
  {
   "cell_type": "markdown",
   "id": "70b07fde",
   "metadata": {},
   "source": [
    "### Checking for Empty Cells in the Dataset"
   ]
  },
  {
   "cell_type": "code",
   "execution_count": 393,
   "id": "adf457ea",
   "metadata": {},
   "outputs": [
    {
     "data": {
      "text/plain": [
       "Timestamp                                             1\n",
       "gender                                                0\n",
       "Age                                                   2\n",
       "emotion                                               1\n",
       "YOB                                                   0\n",
       "CGPA                                                  0\n",
       "Do you have a Girl Friend or BOY Friend               0\n",
       "Do you have Depression?                               0\n",
       "Do you have Anxiety?                                  0\n",
       "Do you have Panic attack?                             0\n",
       "Did you have seek any specialist for a treatment?     0\n",
       "Duration                                              0\n",
       "Pulse                                                 0\n",
       "Maxpulse                                              0\n",
       "Calories                                              5\n",
       "dtype: int64"
      ]
     },
     "execution_count": 393,
     "metadata": {},
     "output_type": "execute_result"
    }
   ],
   "source": [
    "# Using the isnull Method\n",
    "df.isnull().sum()"
   ]
  },
  {
   "cell_type": "code",
   "execution_count": 394,
   "id": "1b41ca78",
   "metadata": {},
   "outputs": [
    {
     "data": {
      "text/plain": [
       "(160, 15)"
      ]
     },
     "execution_count": 394,
     "metadata": {},
     "output_type": "execute_result"
    }
   ],
   "source": [
    "# Using the dropna Method\n",
    "tmp_df = df.copy()\n",
    "tmp_df.dropna(inplace=True)\n",
    "tmp_df.shape"
   ]
  },
  {
   "cell_type": "code",
   "execution_count": 395,
   "id": "cc0ac5bb",
   "metadata": {},
   "outputs": [
    {
     "data": {
      "text/plain": [
       "(160, 15)"
      ]
     },
     "execution_count": 395,
     "metadata": {},
     "output_type": "execute_result"
    }
   ],
   "source": [
    "# Alternatively\n",
    "tmp_df = df.dropna()\n",
    "tmp_df.shape"
   ]
  },
  {
   "cell_type": "code",
   "execution_count": 396,
   "id": "44a3e79b",
   "metadata": {},
   "outputs": [
    {
     "data": {
      "text/plain": [
       "(160, 15)"
      ]
     },
     "execution_count": 396,
     "metadata": {},
     "output_type": "execute_result"
    }
   ],
   "source": [
    "# Using the dropna Method with the inplace Attribute set to True\n",
    "df_inplace = df.copy()\n",
    "df_inplace.dropna(inplace=True)\n",
    "df_inplace.shape"
   ]
  },
  {
   "cell_type": "markdown",
   "id": "b07c1786",
   "metadata": {},
   "source": [
    "### Identify Entries with Empty Cells"
   ]
  },
  {
   "cell_type": "code",
   "execution_count": 397,
   "id": "880f1da7",
   "metadata": {
    "scrolled": true
   },
   "outputs": [
    {
     "data": {
      "text/html": [
       "<div>\n",
       "<style scoped>\n",
       "    .dataframe tbody tr th:only-of-type {\n",
       "        vertical-align: middle;\n",
       "    }\n",
       "\n",
       "    .dataframe tbody tr th {\n",
       "        vertical-align: top;\n",
       "    }\n",
       "\n",
       "    .dataframe thead th {\n",
       "        text-align: right;\n",
       "    }\n",
       "</style>\n",
       "<table border=\"1\" class=\"dataframe\">\n",
       "  <thead>\n",
       "    <tr style=\"text-align: right;\">\n",
       "      <th></th>\n",
       "      <th>Timestamp</th>\n",
       "      <th>gender</th>\n",
       "      <th>Age</th>\n",
       "      <th>emotion</th>\n",
       "      <th>YOB</th>\n",
       "      <th>CGPA</th>\n",
       "      <th>Do you have a Girl Friend or BOY Friend</th>\n",
       "      <th>Do you have Depression?</th>\n",
       "      <th>Do you have Anxiety?</th>\n",
       "      <th>Do you have Panic attack?</th>\n",
       "      <th>Did you have seek any specialist for a treatment?</th>\n",
       "      <th>Duration</th>\n",
       "      <th>Pulse</th>\n",
       "      <th>Maxpulse</th>\n",
       "      <th>Calories</th>\n",
       "    </tr>\n",
       "  </thead>\n",
       "  <tbody>\n",
       "    <tr>\n",
       "      <th>5</th>\n",
       "      <td>NaN</td>\n",
       "      <td>Female</td>\n",
       "      <td>23.0</td>\n",
       "      <td>Happy</td>\n",
       "      <td>2000</td>\n",
       "      <td>3.8</td>\n",
       "      <td>No</td>\n",
       "      <td>No</td>\n",
       "      <td>No</td>\n",
       "      <td>No</td>\n",
       "      <td>No</td>\n",
       "      <td>60</td>\n",
       "      <td>102</td>\n",
       "      <td>127</td>\n",
       "      <td>300.0</td>\n",
       "    </tr>\n",
       "    <tr>\n",
       "      <th>17</th>\n",
       "      <td>05/07/2023 09:39</td>\n",
       "      <td>Male</td>\n",
       "      <td>22.0</td>\n",
       "      <td>Frustrated</td>\n",
       "      <td>2001</td>\n",
       "      <td>5</td>\n",
       "      <td>No</td>\n",
       "      <td>No</td>\n",
       "      <td>No</td>\n",
       "      <td>No</td>\n",
       "      <td>No</td>\n",
       "      <td>45</td>\n",
       "      <td>90</td>\n",
       "      <td>112</td>\n",
       "      <td>NaN</td>\n",
       "    </tr>\n",
       "    <tr>\n",
       "      <th>27</th>\n",
       "      <td>05/07/2023 09:40</td>\n",
       "      <td>Male</td>\n",
       "      <td>22.0</td>\n",
       "      <td>Not sure</td>\n",
       "      <td>2001</td>\n",
       "      <td>3.74</td>\n",
       "      <td>No</td>\n",
       "      <td>Yes</td>\n",
       "      <td>Yes</td>\n",
       "      <td>No</td>\n",
       "      <td>No</td>\n",
       "      <td>60</td>\n",
       "      <td>103</td>\n",
       "      <td>132</td>\n",
       "      <td>NaN</td>\n",
       "    </tr>\n",
       "    <tr>\n",
       "      <th>46</th>\n",
       "      <td>05/07/2023 09:41</td>\n",
       "      <td>Male</td>\n",
       "      <td>NaN</td>\n",
       "      <td>Upset</td>\n",
       "      <td>2002</td>\n",
       "      <td>3.71</td>\n",
       "      <td>Yes</td>\n",
       "      <td>No</td>\n",
       "      <td>No</td>\n",
       "      <td>No</td>\n",
       "      <td>No</td>\n",
       "      <td>60</td>\n",
       "      <td>109</td>\n",
       "      <td>153</td>\n",
       "      <td>387.6</td>\n",
       "    </tr>\n",
       "    <tr>\n",
       "      <th>73</th>\n",
       "      <td>05/07/2023 09:43</td>\n",
       "      <td>female</td>\n",
       "      <td>NaN</td>\n",
       "      <td>happy</td>\n",
       "      <td>2002</td>\n",
       "      <td>4.2</td>\n",
       "      <td>yes</td>\n",
       "      <td>no</td>\n",
       "      <td>yes</td>\n",
       "      <td>no</td>\n",
       "      <td>no</td>\n",
       "      <td>150</td>\n",
       "      <td>97</td>\n",
       "      <td>127</td>\n",
       "      <td>953.2</td>\n",
       "    </tr>\n",
       "    <tr>\n",
       "      <th>78</th>\n",
       "      <td>05/07/2023 09:43</td>\n",
       "      <td>Male</td>\n",
       "      <td>21.0</td>\n",
       "      <td>NaN</td>\n",
       "      <td>2002</td>\n",
       "      <td>3.5</td>\n",
       "      <td>Yes</td>\n",
       "      <td>Nope</td>\n",
       "      <td>Nope</td>\n",
       "      <td>Nope</td>\n",
       "      <td>Nope</td>\n",
       "      <td>120</td>\n",
       "      <td>100</td>\n",
       "      <td>130</td>\n",
       "      <td>500.4</td>\n",
       "    </tr>\n",
       "    <tr>\n",
       "      <th>91</th>\n",
       "      <td>05/07/2023 09:53</td>\n",
       "      <td>Male</td>\n",
       "      <td>22.0</td>\n",
       "      <td>panic</td>\n",
       "      <td>2001</td>\n",
       "      <td>3.78</td>\n",
       "      <td>yes</td>\n",
       "      <td>yes</td>\n",
       "      <td>yes</td>\n",
       "      <td>yes</td>\n",
       "      <td>yes</td>\n",
       "      <td>45</td>\n",
       "      <td>107</td>\n",
       "      <td>137</td>\n",
       "      <td>NaN</td>\n",
       "    </tr>\n",
       "    <tr>\n",
       "      <th>118</th>\n",
       "      <td>05/07/2023 09:40</td>\n",
       "      <td>Male</td>\n",
       "      <td>22.0</td>\n",
       "      <td>Happy</td>\n",
       "      <td>2000</td>\n",
       "      <td>3.7</td>\n",
       "      <td>Yes</td>\n",
       "      <td>No</td>\n",
       "      <td>yes</td>\n",
       "      <td>No</td>\n",
       "      <td>No</td>\n",
       "      <td>60</td>\n",
       "      <td>105</td>\n",
       "      <td>125</td>\n",
       "      <td>NaN</td>\n",
       "    </tr>\n",
       "    <tr>\n",
       "      <th>141</th>\n",
       "      <td>05/07/2023 09:41</td>\n",
       "      <td>Male</td>\n",
       "      <td>25.0</td>\n",
       "      <td>Happy</td>\n",
       "      <td>1998</td>\n",
       "      <td>5</td>\n",
       "      <td>Yes</td>\n",
       "      <td>No</td>\n",
       "      <td>I'm calm</td>\n",
       "      <td>No</td>\n",
       "      <td>No</td>\n",
       "      <td>60</td>\n",
       "      <td>97</td>\n",
       "      <td>127</td>\n",
       "      <td>NaN</td>\n",
       "    </tr>\n",
       "  </tbody>\n",
       "</table>\n",
       "</div>"
      ],
      "text/plain": [
       "            Timestamp  gender   Age     emotion   YOB  CGPA  \\\n",
       "5                 NaN  Female  23.0      Happy   2000   3.8   \n",
       "17   05/07/2023 09:39    Male  22.0  Frustrated  2001     5   \n",
       "27   05/07/2023 09:40    Male  22.0    Not sure  2001  3.74   \n",
       "46   05/07/2023 09:41    Male   NaN       Upset  2002  3.71   \n",
       "73   05/07/2023 09:43  female   NaN       happy  2002   4.2   \n",
       "78   05/07/2023 09:43    Male  21.0         NaN  2002   3.5   \n",
       "91   05/07/2023 09:53    Male  22.0       panic  2001  3.78   \n",
       "118  05/07/2023 09:40    Male  22.0       Happy  2000   3.7   \n",
       "141  05/07/2023 09:41    Male  25.0       Happy  1998     5   \n",
       "\n",
       "    Do you have a Girl Friend or BOY Friend Do you have Depression?  \\\n",
       "5                                        No                      No   \n",
       "17                                       No                      No   \n",
       "27                                       No                     Yes   \n",
       "46                                      Yes                      No   \n",
       "73                                      yes                      no   \n",
       "78                                      Yes                    Nope   \n",
       "91                                      yes                     yes   \n",
       "118                                     Yes                      No   \n",
       "141                                     Yes                      No   \n",
       "\n",
       "    Do you have Anxiety? Do you have Panic attack?  \\\n",
       "5                     No                        No   \n",
       "17                    No                        No   \n",
       "27                   Yes                        No   \n",
       "46                    No                        No   \n",
       "73                   yes                        no   \n",
       "78                  Nope                     Nope    \n",
       "91                   yes                       yes   \n",
       "118                  yes                        No   \n",
       "141             I'm calm                        No   \n",
       "\n",
       "    Did you have seek any specialist for a treatment?   Duration  Pulse  \\\n",
       "5                                                   No        60    102   \n",
       "17                                                  No        45     90   \n",
       "27                                                  No        60    103   \n",
       "46                                                  No        60    109   \n",
       "73                                                  no       150     97   \n",
       "78                                                Nope       120    100   \n",
       "91                                                 yes        45    107   \n",
       "118                                                 No        60    105   \n",
       "141                                                 No        60     97   \n",
       "\n",
       "     Maxpulse  Calories  \n",
       "5         127     300.0  \n",
       "17        112       NaN  \n",
       "27        132       NaN  \n",
       "46        153     387.6  \n",
       "73        127     953.2  \n",
       "78        130     500.4  \n",
       "91        137       NaN  \n",
       "118       125       NaN  \n",
       "141       127       NaN  "
      ]
     },
     "execution_count": 397,
     "metadata": {},
     "output_type": "execute_result"
    }
   ],
   "source": [
    "# df[(df['Timestamp'].isna()) | (df['Age'].isna()) | (df['emotion'].isna()) | (df['Calories'].isna()) ]\n",
    "df[df.isnull().any(axis=1)]"
   ]
  },
  {
   "cell_type": "markdown",
   "id": "2940cca0",
   "metadata": {},
   "source": [
    "### Filling Up All Empty Cells with a Default Value"
   ]
  },
  {
   "cell_type": "code",
   "execution_count": 398,
   "id": "8a76184c",
   "metadata": {},
   "outputs": [
    {
     "data": {
      "text/plain": [
       "Timestamp                                             0\n",
       "gender                                                0\n",
       "Age                                                   0\n",
       "emotion                                               0\n",
       "YOB                                                   0\n",
       "CGPA                                                  0\n",
       "Do you have a Girl Friend or BOY Friend               0\n",
       "Do you have Depression?                               0\n",
       "Do you have Anxiety?                                  0\n",
       "Do you have Panic attack?                             0\n",
       "Did you have seek any specialist for a treatment?     0\n",
       "Duration                                              0\n",
       "Pulse                                                 0\n",
       "Maxpulse                                              0\n",
       "Calories                                              0\n",
       "dtype: int64"
      ]
     },
     "execution_count": 398,
     "metadata": {},
     "output_type": "execute_result"
    }
   ],
   "source": [
    "df['Calories'].fillna(df['Calories'].mean(), inplace=True)\n",
    "df['Age'].fillna(df['Age'].mean(), inplace=True)\n",
    "df['emotion'].fillna('Abstract', inplace=True)\n",
    "df['Timestamp'].fillna('05/07/2023 00:00:00', inplace=True)\n",
    "df.isnull().sum()"
   ]
  },
  {
   "cell_type": "markdown",
   "id": "3766070a",
   "metadata": {},
   "source": [
    "### Getting Median of Numeric Data"
   ]
  },
  {
   "cell_type": "code",
   "execution_count": 399,
   "id": "03ad4ed7",
   "metadata": {},
   "outputs": [
    {
     "data": {
      "text/plain": [
       "321.0"
      ]
     },
     "execution_count": 399,
     "metadata": {},
     "output_type": "execute_result"
    }
   ],
   "source": [
    "df['Calories'].median()"
   ]
  },
  {
   "cell_type": "markdown",
   "id": "bc9d5295",
   "metadata": {},
   "source": [
    "### Calculating Mode of Age Column"
   ]
  },
  {
   "cell_type": "code",
   "execution_count": 400,
   "id": "252943b8",
   "metadata": {},
   "outputs": [
    {
     "data": {
      "text/plain": [
       "0    21.0\n",
       "Name: Age, dtype: float64"
      ]
     },
     "execution_count": 400,
     "metadata": {},
     "output_type": "execute_result"
    }
   ],
   "source": [
    "df['Age'].mode()"
   ]
  },
  {
   "cell_type": "markdown",
   "id": "819a79f1",
   "metadata": {},
   "source": [
    "### Checking Data Format in All Columns"
   ]
  },
  {
   "cell_type": "code",
   "execution_count": 401,
   "id": "e7308533",
   "metadata": {},
   "outputs": [
    {
     "data": {
      "text/plain": [
       "Timestamp                                              object\n",
       "gender                                                 object\n",
       "Age                                                   float64\n",
       "emotion                                                object\n",
       "YOB                                                    object\n",
       "CGPA                                                   object\n",
       "Do you have a Girl Friend or BOY Friend                object\n",
       "Do you have Depression?                                object\n",
       "Do you have Anxiety?                                   object\n",
       "Do you have Panic attack?                              object\n",
       "Did you have seek any specialist for a treatment?      object\n",
       "Duration                                                int64\n",
       "Pulse                                                   int64\n",
       "Maxpulse                                                int64\n",
       "Calories                                              float64\n",
       "dtype: object"
      ]
     },
     "execution_count": 401,
     "metadata": {},
     "output_type": "execute_result"
    }
   ],
   "source": [
    "df.dtypes"
   ]
  },
  {
   "cell_type": "markdown",
   "id": "34598a9b",
   "metadata": {},
   "source": [
    "### Converting YOB, CGPA to Numeric & Timestamp to DateTime Formats"
   ]
  },
  {
   "cell_type": "code",
   "execution_count": 402,
   "id": "a2ea49ea",
   "metadata": {},
   "outputs": [
    {
     "data": {
      "text/plain": [
       "Timestamp                                              object\n",
       "gender                                                 object\n",
       "Age                                                   float64\n",
       "emotion                                                object\n",
       "YOB                                                   float64\n",
       "CGPA                                                  float64\n",
       "Do you have a Girl Friend or BOY Friend                object\n",
       "Do you have Depression?                                object\n",
       "Do you have Anxiety?                                   object\n",
       "Do you have Panic attack?                              object\n",
       "Did you have seek any specialist for a treatment?      object\n",
       "Duration                                                int64\n",
       "Pulse                                                   int64\n",
       "Maxpulse                                                int64\n",
       "Calories                                              float64\n",
       "dtype: object"
      ]
     },
     "execution_count": 402,
     "metadata": {},
     "output_type": "execute_result"
    }
   ],
   "source": [
    "df[['YOB', 'CGPA']] = df[['YOB', 'CGPA']].apply(pd.to_numeric, \n",
    "                                                errors='coerce')\n",
    "df['Timestamp'] = pd.to_datetime(df['Timestamp'], \n",
    "                                 errors='ignore', \n",
    "                                 yearfirst=True, \n",
    "                                 format='%Y-%m-%d %H:%M:%S')\n",
    "df.dtypes"
   ]
  },
  {
   "cell_type": "markdown",
   "id": "e8aaeaa1",
   "metadata": {},
   "source": [
    "### Wrong Data"
   ]
  },
  {
   "cell_type": "markdown",
   "id": "976757f1",
   "metadata": {},
   "source": [
    "#### Range of values in numeric columns"
   ]
  },
  {
   "cell_type": "code",
   "execution_count": 403,
   "id": "9fe0f8c5",
   "metadata": {},
   "outputs": [
    {
     "name": "stdout",
     "output_type": "stream",
     "text": [
      "19.0 <= Age <= 68.0\n"
     ]
    }
   ],
   "source": [
    "print(f\"{df['Age'].min()} <= Age <= {df['Age'].max()}\")"
   ]
  },
  {
   "cell_type": "code",
   "execution_count": 404,
   "id": "b780ebef",
   "metadata": {},
   "outputs": [
    {
     "name": "stdout",
     "output_type": "stream",
     "text": [
      "1953.0 <= YOB <= 2100.0\n"
     ]
    }
   ],
   "source": [
    "print(f\"{df['YOB'].min()} <= YOB <= {df['YOB'].max()}\")"
   ]
  },
  {
   "cell_type": "code",
   "execution_count": 405,
   "id": "3576b72c",
   "metadata": {},
   "outputs": [
    {
     "name": "stdout",
     "output_type": "stream",
     "text": [
      "1.0 <= CGPA <= 8.9\n"
     ]
    }
   ],
   "source": [
    "print(f\"{df['CGPA'].min()} <= CGPA <= {df['CGPA'].max()}\")"
   ]
  },
  {
   "cell_type": "code",
   "execution_count": 406,
   "id": "01153dd1",
   "metadata": {},
   "outputs": [
    {
     "name": "stdout",
     "output_type": "stream",
     "text": [
      "15 <= Duration <= 300\n"
     ]
    }
   ],
   "source": [
    "print(f\"{df['Duration'].min()} <= Duration <= {df['Duration'].max()}\")"
   ]
  },
  {
   "cell_type": "code",
   "execution_count": 407,
   "id": "3bb100af",
   "metadata": {},
   "outputs": [
    {
     "name": "stdout",
     "output_type": "stream",
     "text": [
      "80 <= Pulse <= 159\n"
     ]
    }
   ],
   "source": [
    "print(f\"{df['Pulse'].min()} <= Pulse <= {df['Pulse'].max()}\")"
   ]
  },
  {
   "cell_type": "code",
   "execution_count": 408,
   "id": "43f40c26",
   "metadata": {},
   "outputs": [
    {
     "name": "stdout",
     "output_type": "stream",
     "text": [
      "100 <= Maxpulse <= 184\n"
     ]
    }
   ],
   "source": [
    "print(f\"{df['Maxpulse'].min()} <= Maxpulse <= {df['Maxpulse'].max()}\")"
   ]
  },
  {
   "cell_type": "code",
   "execution_count": 409,
   "id": "a9850f9d",
   "metadata": {},
   "outputs": [
    {
     "name": "stdout",
     "output_type": "stream",
     "text": [
      "50.3 <= Calories <= 1860.4\n"
     ]
    }
   ],
   "source": [
    "print(f\"{df['Calories'].min()} <= Calories <= {df['Calories'].max()}\")"
   ]
  },
  {
   "cell_type": "markdown",
   "id": "72b0fcd2",
   "metadata": {},
   "source": [
    "#### Entries with Wrong Data in 'Do you have Depression?' Column"
   ]
  },
  {
   "cell_type": "code",
   "execution_count": 416,
   "id": "b38eba01",
   "metadata": {},
   "outputs": [
    {
     "data": {
      "text/plain": [
       "array(['No', 'Yes', 'no', 'NO', 'yes', 'NO '], dtype=object)"
      ]
     },
     "execution_count": 416,
     "metadata": {},
     "output_type": "execute_result"
    }
   ],
   "source": [
    "from re import *\n",
    "\n",
    "s = 'Do you have Depression?'\n",
    "\n",
    "v = df[s].unique()\n",
    "for i in v:\n",
    "    i = i.strip()\n",
    "    if match('nope|don\\'t know|jo|none', i, I):\n",
    "        df.loc[df[s] == i, s] = 'No'\n",
    "    if match('maybe|abit|probably', i, I):\n",
    "        df.loc[df[s] == i, s] = 'Yes'\n",
    "\n",
    "df[s].unique()"
   ]
  },
  {
   "cell_type": "markdown",
   "id": "71ea7c8a",
   "metadata": {},
   "source": [
    "#### Entries with Wrong Data in 'Gender' Column"
   ]
  },
  {
   "cell_type": "code",
   "execution_count": 434,
   "id": "8d1ed4fe",
   "metadata": {},
   "outputs": [
    {
     "data": {
      "text/plain": [
       "array(['Male', 'Female ', 'Female', 'female', 'MALE', 'FEMALE', 'male'],\n",
       "      dtype=object)"
      ]
     },
     "execution_count": 434,
     "metadata": {},
     "output_type": "execute_result"
    }
   ],
   "source": [
    "v = df['gender'].unique()\n",
    "v = list(filter(lambda x : match('male|female', x, I) == None, v))\n",
    "for i in v:\n",
    "    df.loc[df['gender'] == i, 'gender'] = 'Male'\n",
    "\n",
    "df['gender'].unique()"
   ]
  },
  {
   "cell_type": "code",
   "execution_count": 444,
   "id": "1dd6ce52",
   "metadata": {},
   "outputs": [
    {
     "data": {
      "text/plain": [
       "101"
      ]
     },
     "execution_count": 444,
     "metadata": {},
     "output_type": "execute_result"
    }
   ],
   "source": [
    "df['gender'].apply(lambda x: match('male', x, I)).count()"
   ]
  },
  {
   "cell_type": "code",
   "execution_count": 457,
   "id": "6a024536",
   "metadata": {},
   "outputs": [
    {
     "data": {
      "text/plain": [
       "67"
      ]
     },
     "execution_count": 457,
     "metadata": {},
     "output_type": "execute_result"
    }
   ],
   "source": [
    "df['gender'].apply(lambda x: match('female', x, I)).count()"
   ]
  },
  {
   "cell_type": "code",
   "execution_count": 446,
   "id": "fcfe2b92",
   "metadata": {},
   "outputs": [
    {
     "data": {
      "text/plain": [
       "(168, 15)"
      ]
     },
     "execution_count": 446,
     "metadata": {},
     "output_type": "execute_result"
    }
   ],
   "source": [
    "df.shape"
   ]
  },
  {
   "cell_type": "markdown",
   "id": "8118186f",
   "metadata": {},
   "source": [
    "### Duplicate Entries"
   ]
  },
  {
   "cell_type": "code",
   "execution_count": 417,
   "id": "0b326597",
   "metadata": {},
   "outputs": [
    {
     "data": {
      "text/plain": [
       "0"
      ]
     },
     "execution_count": 417,
     "metadata": {},
     "output_type": "execute_result"
    }
   ],
   "source": [
    "df.duplicated().sum()"
   ]
  },
  {
   "cell_type": "code",
   "execution_count": 418,
   "id": "3eb86996",
   "metadata": {},
   "outputs": [
    {
     "data": {
      "text/plain": [
       "0"
      ]
     },
     "execution_count": 418,
     "metadata": {},
     "output_type": "execute_result"
    }
   ],
   "source": [
    "df.drop_duplicates(inplace=True)\n",
    "df.duplicated().sum()"
   ]
  },
  {
   "cell_type": "code",
   "execution_count": 419,
   "id": "eb6bb6ef",
   "metadata": {},
   "outputs": [
    {
     "data": {
      "text/plain": [
       "<Axes: ylabel='Density'>"
      ]
     },
     "execution_count": 419,
     "metadata": {},
     "output_type": "execute_result"
    },
    {
     "data": {
      "image/png": "[encoded data removed]",
      "text/plain": [
       "<Figure size 640x480 with 1 Axes>"
      ]
     },
     "metadata": {},
     "output_type": "display_data"
    }
   ],
   "source": [
    "df['Age'].plot(kind='density')"
   ]
  },
  {
   "cell_type": "code",
   "execution_count": 420,
   "id": "8debdbef",
   "metadata": {},
   "outputs": [
    {
     "data": {
      "text/html": [
       "<div>\n",
       "<style scoped>\n",
       "    .dataframe tbody tr th:only-of-type {\n",
       "        vertical-align: middle;\n",
       "    }\n",
       "\n",
       "    .dataframe tbody tr th {\n",
       "        vertical-align: top;\n",
       "    }\n",
       "\n",
       "    .dataframe thead th {\n",
       "        text-align: right;\n",
       "    }\n",
       "</style>\n",
       "<table border=\"1\" class=\"dataframe\">\n",
       "  <thead>\n",
       "    <tr style=\"text-align: right;\">\n",
       "      <th></th>\n",
       "      <th>Timestamp</th>\n",
       "      <th>gender</th>\n",
       "      <th>Age</th>\n",
       "      <th>emotion</th>\n",
       "      <th>YOB</th>\n",
       "      <th>CGPA</th>\n",
       "      <th>Do you have a Girl Friend or BOY Friend</th>\n",
       "      <th>Do you have Depression?</th>\n",
       "      <th>Do you have Anxiety?</th>\n",
       "      <th>Do you have Panic attack?</th>\n",
       "      <th>Did you have seek any specialist for a treatment?</th>\n",
       "      <th>Duration</th>\n",
       "      <th>Pulse</th>\n",
       "      <th>Maxpulse</th>\n",
       "      <th>Calories</th>\n",
       "    </tr>\n",
       "  </thead>\n",
       "  <tbody>\n",
       "    <tr>\n",
       "      <th>0</th>\n",
       "      <td>05/07/2023 09:38</td>\n",
       "      <td>Male</td>\n",
       "      <td>21.0</td>\n",
       "      <td>Content</td>\n",
       "      <td>2002.0</td>\n",
       "      <td>4.22</td>\n",
       "      <td>No</td>\n",
       "      <td>No</td>\n",
       "      <td>Yes</td>\n",
       "      <td>Yes</td>\n",
       "      <td>Yes</td>\n",
       "      <td>60</td>\n",
       "      <td>110</td>\n",
       "      <td>130</td>\n",
       "      <td>409.1</td>\n",
       "    </tr>\n",
       "    <tr>\n",
       "      <th>1</th>\n",
       "      <td>05/07/2023 09:38</td>\n",
       "      <td>Marabou stock</td>\n",
       "      <td>45.0</td>\n",
       "      <td>Weird</td>\n",
       "      <td>2100.0</td>\n",
       "      <td>8.90</td>\n",
       "      <td>Yes</td>\n",
       "      <td>Yes</td>\n",
       "      <td>Yes</td>\n",
       "      <td>Yes</td>\n",
       "      <td>No</td>\n",
       "      <td>60</td>\n",
       "      <td>117</td>\n",
       "      <td>145</td>\n",
       "      <td>479.0</td>\n",
       "    </tr>\n",
       "    <tr>\n",
       "      <th>2</th>\n",
       "      <td>05/07/2023 09:39</td>\n",
       "      <td>Female</td>\n",
       "      <td>20.0</td>\n",
       "      <td>Happy</td>\n",
       "      <td>2002.0</td>\n",
       "      <td>3.98</td>\n",
       "      <td>No</td>\n",
       "      <td>No</td>\n",
       "      <td>Yes</td>\n",
       "      <td>Yes</td>\n",
       "      <td>No</td>\n",
       "      <td>60</td>\n",
       "      <td>103</td>\n",
       "      <td>135</td>\n",
       "      <td>340.0</td>\n",
       "    </tr>\n",
       "    <tr>\n",
       "      <th>3</th>\n",
       "      <td>05/07/2023 09:39</td>\n",
       "      <td>Male</td>\n",
       "      <td>21.0</td>\n",
       "      <td>Happy</td>\n",
       "      <td>2003.0</td>\n",
       "      <td>4.37</td>\n",
       "      <td>No</td>\n",
       "      <td>No</td>\n",
       "      <td>No</td>\n",
       "      <td>No</td>\n",
       "      <td>Nope</td>\n",
       "      <td>45</td>\n",
       "      <td>109</td>\n",
       "      <td>175</td>\n",
       "      <td>282.4</td>\n",
       "    </tr>\n",
       "    <tr>\n",
       "      <th>4</th>\n",
       "      <td>05/07/2023 09:39</td>\n",
       "      <td>Female</td>\n",
       "      <td>21.0</td>\n",
       "      <td>Happy</td>\n",
       "      <td>2002.0</td>\n",
       "      <td>3.63</td>\n",
       "      <td>No</td>\n",
       "      <td>No</td>\n",
       "      <td>No</td>\n",
       "      <td>No</td>\n",
       "      <td>No</td>\n",
       "      <td>45</td>\n",
       "      <td>117</td>\n",
       "      <td>148</td>\n",
       "      <td>406.0</td>\n",
       "    </tr>\n",
       "    <tr>\n",
       "      <th>...</th>\n",
       "      <td>...</td>\n",
       "      <td>...</td>\n",
       "      <td>...</td>\n",
       "      <td>...</td>\n",
       "      <td>...</td>\n",
       "      <td>...</td>\n",
       "      <td>...</td>\n",
       "      <td>...</td>\n",
       "      <td>...</td>\n",
       "      <td>...</td>\n",
       "      <td>...</td>\n",
       "      <td>...</td>\n",
       "      <td>...</td>\n",
       "      <td>...</td>\n",
       "      <td>...</td>\n",
       "    </tr>\n",
       "    <tr>\n",
       "      <th>164</th>\n",
       "      <td>05/07/2023 09:44</td>\n",
       "      <td>Male</td>\n",
       "      <td>22.0</td>\n",
       "      <td>Angry</td>\n",
       "      <td>1999.0</td>\n",
       "      <td>3.50</td>\n",
       "      <td>Yes</td>\n",
       "      <td>No</td>\n",
       "      <td>No</td>\n",
       "      <td>No</td>\n",
       "      <td>No</td>\n",
       "      <td>60</td>\n",
       "      <td>105</td>\n",
       "      <td>140</td>\n",
       "      <td>290.8</td>\n",
       "    </tr>\n",
       "    <tr>\n",
       "      <th>165</th>\n",
       "      <td>05/07/2023 09:44</td>\n",
       "      <td>male</td>\n",
       "      <td>23.0</td>\n",
       "      <td>sad</td>\n",
       "      <td>1999.0</td>\n",
       "      <td>4.00</td>\n",
       "      <td>no</td>\n",
       "      <td>no</td>\n",
       "      <td>no</td>\n",
       "      <td>no</td>\n",
       "      <td>no</td>\n",
       "      <td>60</td>\n",
       "      <td>110</td>\n",
       "      <td>145</td>\n",
       "      <td>300.0</td>\n",
       "    </tr>\n",
       "    <tr>\n",
       "      <th>166</th>\n",
       "      <td>05/07/2023 09:44</td>\n",
       "      <td>male</td>\n",
       "      <td>20.0</td>\n",
       "      <td>calm</td>\n",
       "      <td>2002.0</td>\n",
       "      <td>3.70</td>\n",
       "      <td>yes</td>\n",
       "      <td>no</td>\n",
       "      <td>no</td>\n",
       "      <td>no</td>\n",
       "      <td>no</td>\n",
       "      <td>60</td>\n",
       "      <td>115</td>\n",
       "      <td>145</td>\n",
       "      <td>310.2</td>\n",
       "    </tr>\n",
       "    <tr>\n",
       "      <th>167</th>\n",
       "      <td>05/07/2023 09:44</td>\n",
       "      <td>Female</td>\n",
       "      <td>21.0</td>\n",
       "      <td>sad</td>\n",
       "      <td>2001.0</td>\n",
       "      <td>3.80</td>\n",
       "      <td>no</td>\n",
       "      <td>no</td>\n",
       "      <td>yes</td>\n",
       "      <td>no</td>\n",
       "      <td>no</td>\n",
       "      <td>75</td>\n",
       "      <td>120</td>\n",
       "      <td>150</td>\n",
       "      <td>320.4</td>\n",
       "    </tr>\n",
       "    <tr>\n",
       "      <th>168</th>\n",
       "      <td>05/07/2023 09:45</td>\n",
       "      <td>Female</td>\n",
       "      <td>20.0</td>\n",
       "      <td>Happy</td>\n",
       "      <td>2022.0</td>\n",
       "      <td>NaN</td>\n",
       "      <td>no</td>\n",
       "      <td>no</td>\n",
       "      <td>no</td>\n",
       "      <td>yes</td>\n",
       "      <td>no</td>\n",
       "      <td>75</td>\n",
       "      <td>125</td>\n",
       "      <td>150</td>\n",
       "      <td>330.4</td>\n",
       "    </tr>\n",
       "  </tbody>\n",
       "</table>\n",
       "<p>168 rows × 15 columns</p>\n",
       "</div>"
      ],
      "text/plain": [
       "            Timestamp         gender   Age  emotion     YOB  CGPA  \\\n",
       "0    05/07/2023 09:38           Male  21.0  Content  2002.0  4.22   \n",
       "1    05/07/2023 09:38  Marabou stock  45.0    Weird  2100.0  8.90   \n",
       "2    05/07/2023 09:39        Female   20.0    Happy  2002.0  3.98   \n",
       "3    05/07/2023 09:39           Male  21.0    Happy  2003.0  4.37   \n",
       "4    05/07/2023 09:39         Female  21.0    Happy  2002.0  3.63   \n",
       "..                ...            ...   ...      ...     ...   ...   \n",
       "164  05/07/2023 09:44           Male  22.0   Angry   1999.0  3.50   \n",
       "165  05/07/2023 09:44           male  23.0      sad  1999.0  4.00   \n",
       "166  05/07/2023 09:44           male  20.0     calm  2002.0  3.70   \n",
       "167  05/07/2023 09:44         Female  21.0      sad  2001.0  3.80   \n",
       "168  05/07/2023 09:45         Female  20.0    Happy  2022.0   NaN   \n",
       "\n",
       "    Do you have a Girl Friend or BOY Friend Do you have Depression?  \\\n",
       "0                                        No                      No   \n",
       "1                                       Yes                     Yes   \n",
       "2                                        No                      No   \n",
       "3                                        No                      No   \n",
       "4                                        No                      No   \n",
       "..                                      ...                     ...   \n",
       "164                                    Yes                       No   \n",
       "165                                      no                      no   \n",
       "166                                     yes                      no   \n",
       "167                                      no                      no   \n",
       "168                                      no                      no   \n",
       "\n",
       "    Do you have Anxiety? Do you have Panic attack?  \\\n",
       "0                    Yes                       Yes   \n",
       "1                    Yes                       Yes   \n",
       "2                    Yes                       Yes   \n",
       "3                     No                        No   \n",
       "4                     No                        No   \n",
       "..                   ...                       ...   \n",
       "164                   No                       No    \n",
       "165                   no                        no   \n",
       "166                   no                        no   \n",
       "167                  yes                        no   \n",
       "168                   no                       yes   \n",
       "\n",
       "    Did you have seek any specialist for a treatment?   Duration  Pulse  \\\n",
       "0                                                  Yes        60    110   \n",
       "1                                                   No        60    117   \n",
       "2                                                   No        60    103   \n",
       "3                                                 Nope        45    109   \n",
       "4                                                   No        45    117   \n",
       "..                                                 ...       ...    ...   \n",
       "164                                                 No        60    105   \n",
       "165                                                 no        60    110   \n",
       "166                                                 no        60    115   \n",
       "167                                                 no        75    120   \n",
       "168                                                 no        75    125   \n",
       "\n",
       "     Maxpulse  Calories  \n",
       "0         130     409.1  \n",
       "1         145     479.0  \n",
       "2         135     340.0  \n",
       "3         175     282.4  \n",
       "4         148     406.0  \n",
       "..        ...       ...  \n",
       "164       140     290.8  \n",
       "165       145     300.0  \n",
       "166       145     310.2  \n",
       "167       150     320.4  \n",
       "168       150     330.4  \n",
       "\n",
       "[168 rows x 15 columns]"
      ]
     },
     "execution_count": 420,
     "metadata": {},
     "output_type": "execute_result"
    }
   ],
   "source": [
    "df"
   ]
  },
  {
   "cell_type": "code",
   "execution_count": null,
   "id": "82e2ff54",
   "metadata": {},
   "outputs": [],
   "source": []
  }
 ],
 "metadata": {
  "kernelspec": {
   "display_name": "Python 3 (ipykernel)",
   "language": "python",
   "name": "python3"
  },
  "language_info": {
   "codemirror_mode": {
    "name": "ipython",
    "version": 3
   },
   "file_extension": ".py",
   "mimetype": "text/x-python",
   "name": "python",
   "nbconvert_exporter": "python",
   "pygments_lexer": "ipython3",
   "version": "3.9.16"
  }
 },
 "nbformat": 4,
 "nbformat_minor": 5
}
